{
 "cells": [
  {
   "cell_type": "markdown",
   "metadata": {},
   "source": [
    "While CSV is simple and the most widely used data format (Excel, Google Sheets), there are several distinct advantages for Parquet, including:\n",
    "\n",
    "* Parquet is column oriented and CSV is row oriented. Row-oriented formats are optimized for OLTP workloads while column-oriented formats are better suited for analytical workloads.\n",
    "* Column-oriented databases such as AWS Redshift Spectrum bill by the amount data scanned per query\n",
    "* Therefore, converting CSV to Parquet with partitioning and compression lowers overall costs and improves performance"
   ]
  },
  {
   "cell_type": "code",
   "execution_count": 1,
   "metadata": {},
   "outputs": [
    {
     "data": {
      "text/html": [
       "<div>\n",
       "<style scoped>\n",
       "    .dataframe tbody tr th:only-of-type {\n",
       "        vertical-align: middle;\n",
       "    }\n",
       "\n",
       "    .dataframe tbody tr th {\n",
       "        vertical-align: top;\n",
       "    }\n",
       "\n",
       "    .dataframe thead th {\n",
       "        text-align: right;\n",
       "    }\n",
       "</style>\n",
       "<table border=\"1\" class=\"dataframe\">\n",
       "  <thead>\n",
       "    <tr style=\"text-align: right;\">\n",
       "      <th></th>\n",
       "      <th>YEAR</th>\n",
       "      <th>MO</th>\n",
       "      <th>DY</th>\n",
       "      <th>HR</th>\n",
       "      <th>PRECTOTCORR</th>\n",
       "      <th>Unnamed: 5</th>\n",
       "      <th>time</th>\n",
       "      <th>temperature_2m (°C)</th>\n",
       "      <th>YEAR.1</th>\n",
       "      <th>MO.1</th>\n",
       "      <th>DY.1</th>\n",
       "      <th>HR.1</th>\n",
       "      <th>ALLSKY_SFC_SW_DWN</th>\n",
       "      <th>time.1</th>\n",
       "      <th>wind_speed_10m (km/h)</th>\n",
       "      <th>Unnamed: 15</th>\n",
       "      <th>time.2</th>\n",
       "      <th>relative_humidity_2m (%)</th>\n",
       "    </tr>\n",
       "  </thead>\n",
       "  <tbody>\n",
       "    <tr>\n",
       "      <th>0</th>\n",
       "      <td>2023</td>\n",
       "      <td>1</td>\n",
       "      <td>1</td>\n",
       "      <td>0</td>\n",
       "      <td>0.06</td>\n",
       "      <td>0.00006</td>\n",
       "      <td>2023-01-01T00:00</td>\n",
       "      <td>5.4</td>\n",
       "      <td>2023.0</td>\n",
       "      <td>1.0</td>\n",
       "      <td>1.0</td>\n",
       "      <td>0.0</td>\n",
       "      <td>0.0</td>\n",
       "      <td>2023-01-01T00:00</td>\n",
       "      <td>25.6</td>\n",
       "      <td>7.1</td>\n",
       "      <td>2023-01-01T00:00</td>\n",
       "      <td>91</td>\n",
       "    </tr>\n",
       "    <tr>\n",
       "      <th>1</th>\n",
       "      <td>2023</td>\n",
       "      <td>1</td>\n",
       "      <td>1</td>\n",
       "      <td>1</td>\n",
       "      <td>0.03</td>\n",
       "      <td>0.00003</td>\n",
       "      <td>2023-01-01T01:00</td>\n",
       "      <td>5.2</td>\n",
       "      <td>2023.0</td>\n",
       "      <td>1.0</td>\n",
       "      <td>1.0</td>\n",
       "      <td>1.0</td>\n",
       "      <td>0.0</td>\n",
       "      <td>2023-01-01T01:00</td>\n",
       "      <td>24.1</td>\n",
       "      <td>6.7</td>\n",
       "      <td>2023-01-01T01:00</td>\n",
       "      <td>91</td>\n",
       "    </tr>\n",
       "    <tr>\n",
       "      <th>2</th>\n",
       "      <td>2023</td>\n",
       "      <td>1</td>\n",
       "      <td>1</td>\n",
       "      <td>2</td>\n",
       "      <td>0.02</td>\n",
       "      <td>0.00002</td>\n",
       "      <td>2023-01-01T02:00</td>\n",
       "      <td>5.1</td>\n",
       "      <td>2023.0</td>\n",
       "      <td>1.0</td>\n",
       "      <td>1.0</td>\n",
       "      <td>2.0</td>\n",
       "      <td>0.0</td>\n",
       "      <td>2023-01-01T02:00</td>\n",
       "      <td>24.8</td>\n",
       "      <td>6.9</td>\n",
       "      <td>2023-01-01T02:00</td>\n",
       "      <td>90</td>\n",
       "    </tr>\n",
       "    <tr>\n",
       "      <th>3</th>\n",
       "      <td>2023</td>\n",
       "      <td>1</td>\n",
       "      <td>1</td>\n",
       "      <td>3</td>\n",
       "      <td>0.01</td>\n",
       "      <td>0.00001</td>\n",
       "      <td>2023-01-01T03:00</td>\n",
       "      <td>4.8</td>\n",
       "      <td>2023.0</td>\n",
       "      <td>1.0</td>\n",
       "      <td>1.0</td>\n",
       "      <td>3.0</td>\n",
       "      <td>0.0</td>\n",
       "      <td>2023-01-01T03:00</td>\n",
       "      <td>23.8</td>\n",
       "      <td>6.6</td>\n",
       "      <td>2023-01-01T03:00</td>\n",
       "      <td>90</td>\n",
       "    </tr>\n",
       "    <tr>\n",
       "      <th>4</th>\n",
       "      <td>2023</td>\n",
       "      <td>1</td>\n",
       "      <td>1</td>\n",
       "      <td>4</td>\n",
       "      <td>0.01</td>\n",
       "      <td>0.00001</td>\n",
       "      <td>2023-01-01T04:00</td>\n",
       "      <td>4.4</td>\n",
       "      <td>2023.0</td>\n",
       "      <td>1.0</td>\n",
       "      <td>1.0</td>\n",
       "      <td>4.0</td>\n",
       "      <td>0.0</td>\n",
       "      <td>2023-01-01T04:00</td>\n",
       "      <td>23.4</td>\n",
       "      <td>6.5</td>\n",
       "      <td>2023-01-01T04:00</td>\n",
       "      <td>89</td>\n",
       "    </tr>\n",
       "    <tr>\n",
       "      <th>...</th>\n",
       "      <td>...</td>\n",
       "      <td>...</td>\n",
       "      <td>...</td>\n",
       "      <td>...</td>\n",
       "      <td>...</td>\n",
       "      <td>...</td>\n",
       "      <td>...</td>\n",
       "      <td>...</td>\n",
       "      <td>...</td>\n",
       "      <td>...</td>\n",
       "      <td>...</td>\n",
       "      <td>...</td>\n",
       "      <td>...</td>\n",
       "      <td>...</td>\n",
       "      <td>...</td>\n",
       "      <td>...</td>\n",
       "      <td>...</td>\n",
       "      <td>...</td>\n",
       "    </tr>\n",
       "    <tr>\n",
       "      <th>8755</th>\n",
       "      <td>2023</td>\n",
       "      <td>12</td>\n",
       "      <td>31</td>\n",
       "      <td>19</td>\n",
       "      <td>0.00</td>\n",
       "      <td>0.00000</td>\n",
       "      <td>2023-12-31T19:00</td>\n",
       "      <td>-5.6</td>\n",
       "      <td>NaN</td>\n",
       "      <td>NaN</td>\n",
       "      <td>NaN</td>\n",
       "      <td>NaN</td>\n",
       "      <td>NaN</td>\n",
       "      <td>2023-12-31T19:00</td>\n",
       "      <td>12.6</td>\n",
       "      <td>3.5</td>\n",
       "      <td>2023-12-31T19:00</td>\n",
       "      <td>80</td>\n",
       "    </tr>\n",
       "    <tr>\n",
       "      <th>8756</th>\n",
       "      <td>2023</td>\n",
       "      <td>12</td>\n",
       "      <td>31</td>\n",
       "      <td>20</td>\n",
       "      <td>0.00</td>\n",
       "      <td>0.00000</td>\n",
       "      <td>2023-12-31T20:00</td>\n",
       "      <td>-5.3</td>\n",
       "      <td>NaN</td>\n",
       "      <td>NaN</td>\n",
       "      <td>NaN</td>\n",
       "      <td>NaN</td>\n",
       "      <td>NaN</td>\n",
       "      <td>2023-12-31T20:00</td>\n",
       "      <td>11.2</td>\n",
       "      <td>3.1</td>\n",
       "      <td>2023-12-31T20:00</td>\n",
       "      <td>79</td>\n",
       "    </tr>\n",
       "    <tr>\n",
       "      <th>8757</th>\n",
       "      <td>2023</td>\n",
       "      <td>12</td>\n",
       "      <td>31</td>\n",
       "      <td>21</td>\n",
       "      <td>0.01</td>\n",
       "      <td>0.00001</td>\n",
       "      <td>2023-12-31T21:00</td>\n",
       "      <td>-5.6</td>\n",
       "      <td>NaN</td>\n",
       "      <td>NaN</td>\n",
       "      <td>NaN</td>\n",
       "      <td>NaN</td>\n",
       "      <td>NaN</td>\n",
       "      <td>2023-12-31T21:00</td>\n",
       "      <td>9.7</td>\n",
       "      <td>2.7</td>\n",
       "      <td>2023-12-31T21:00</td>\n",
       "      <td>80</td>\n",
       "    </tr>\n",
       "    <tr>\n",
       "      <th>8758</th>\n",
       "      <td>2023</td>\n",
       "      <td>12</td>\n",
       "      <td>31</td>\n",
       "      <td>22</td>\n",
       "      <td>0.02</td>\n",
       "      <td>0.00002</td>\n",
       "      <td>2023-12-31T22:00</td>\n",
       "      <td>-6.3</td>\n",
       "      <td>NaN</td>\n",
       "      <td>NaN</td>\n",
       "      <td>NaN</td>\n",
       "      <td>NaN</td>\n",
       "      <td>NaN</td>\n",
       "      <td>2023-12-31T22:00</td>\n",
       "      <td>6.8</td>\n",
       "      <td>1.9</td>\n",
       "      <td>2023-12-31T22:00</td>\n",
       "      <td>84</td>\n",
       "    </tr>\n",
       "    <tr>\n",
       "      <th>8759</th>\n",
       "      <td>2023</td>\n",
       "      <td>12</td>\n",
       "      <td>31</td>\n",
       "      <td>23</td>\n",
       "      <td>0.04</td>\n",
       "      <td>0.00004</td>\n",
       "      <td>2023-12-31T23:00</td>\n",
       "      <td>-6.6</td>\n",
       "      <td>NaN</td>\n",
       "      <td>NaN</td>\n",
       "      <td>NaN</td>\n",
       "      <td>NaN</td>\n",
       "      <td>NaN</td>\n",
       "      <td>2023-12-31T23:00</td>\n",
       "      <td>9.0</td>\n",
       "      <td>2.5</td>\n",
       "      <td>2023-12-31T23:00</td>\n",
       "      <td>82</td>\n",
       "    </tr>\n",
       "  </tbody>\n",
       "</table>\n",
       "<p>8760 rows × 18 columns</p>\n",
       "</div>"
      ],
      "text/plain": [
       "      YEAR  MO  DY  HR  PRECTOTCORR  Unnamed: 5              time  \\\n",
       "0     2023   1   1   0         0.06     0.00006  2023-01-01T00:00   \n",
       "1     2023   1   1   1         0.03     0.00003  2023-01-01T01:00   \n",
       "2     2023   1   1   2         0.02     0.00002  2023-01-01T02:00   \n",
       "3     2023   1   1   3         0.01     0.00001  2023-01-01T03:00   \n",
       "4     2023   1   1   4         0.01     0.00001  2023-01-01T04:00   \n",
       "...    ...  ..  ..  ..          ...         ...               ...   \n",
       "8755  2023  12  31  19         0.00     0.00000  2023-12-31T19:00   \n",
       "8756  2023  12  31  20         0.00     0.00000  2023-12-31T20:00   \n",
       "8757  2023  12  31  21         0.01     0.00001  2023-12-31T21:00   \n",
       "8758  2023  12  31  22         0.02     0.00002  2023-12-31T22:00   \n",
       "8759  2023  12  31  23         0.04     0.00004  2023-12-31T23:00   \n",
       "\n",
       "      temperature_2m (°C)  YEAR.1  MO.1  DY.1  HR.1  ALLSKY_SFC_SW_DWN  \\\n",
       "0                     5.4  2023.0   1.0   1.0   0.0                0.0   \n",
       "1                     5.2  2023.0   1.0   1.0   1.0                0.0   \n",
       "2                     5.1  2023.0   1.0   1.0   2.0                0.0   \n",
       "3                     4.8  2023.0   1.0   1.0   3.0                0.0   \n",
       "4                     4.4  2023.0   1.0   1.0   4.0                0.0   \n",
       "...                   ...     ...   ...   ...   ...                ...   \n",
       "8755                 -5.6     NaN   NaN   NaN   NaN                NaN   \n",
       "8756                 -5.3     NaN   NaN   NaN   NaN                NaN   \n",
       "8757                 -5.6     NaN   NaN   NaN   NaN                NaN   \n",
       "8758                 -6.3     NaN   NaN   NaN   NaN                NaN   \n",
       "8759                 -6.6     NaN   NaN   NaN   NaN                NaN   \n",
       "\n",
       "                time.1  wind_speed_10m (km/h)  Unnamed: 15            time.2  \\\n",
       "0     2023-01-01T00:00                   25.6          7.1  2023-01-01T00:00   \n",
       "1     2023-01-01T01:00                   24.1          6.7  2023-01-01T01:00   \n",
       "2     2023-01-01T02:00                   24.8          6.9  2023-01-01T02:00   \n",
       "3     2023-01-01T03:00                   23.8          6.6  2023-01-01T03:00   \n",
       "4     2023-01-01T04:00                   23.4          6.5  2023-01-01T04:00   \n",
       "...                ...                    ...          ...               ...   \n",
       "8755  2023-12-31T19:00                   12.6          3.5  2023-12-31T19:00   \n",
       "8756  2023-12-31T20:00                   11.2          3.1  2023-12-31T20:00   \n",
       "8757  2023-12-31T21:00                    9.7          2.7  2023-12-31T21:00   \n",
       "8758  2023-12-31T22:00                    6.8          1.9  2023-12-31T22:00   \n",
       "8759  2023-12-31T23:00                    9.0          2.5  2023-12-31T23:00   \n",
       "\n",
       "      relative_humidity_2m (%)  \n",
       "0                           91  \n",
       "1                           91  \n",
       "2                           90  \n",
       "3                           90  \n",
       "4                           89  \n",
       "...                        ...  \n",
       "8755                        80  \n",
       "8756                        79  \n",
       "8757                        80  \n",
       "8758                        84  \n",
       "8759                        82  \n",
       "\n",
       "[8760 rows x 18 columns]"
      ]
     },
     "execution_count": 1,
     "metadata": {},
     "output_type": "execute_result"
    }
   ],
   "source": [
    "#import os\n",
    "#\n",
    "#os.environ[\"MODIN_ENGINE\"] = \"ray\"  # Modin will use Ray\n",
    "#os.environ[\"MODIN_ENGINE\"] = \"dask\"  # Modin will use Dask\n",
    "#\n",
    "#os.environ[\"MODIN_ENGINE\"] = \"unidist\" # Modin will use Unidist\n",
    "#os.environ[\"UNIDIST_BACKEND\"] = \"mpi\" # Unidist will use MPI backend\n",
    "#\n",
    "#import modin.pandas as pd\n",
    "import matplotlib.pyplot as plt\n",
    "import pandas as pd\n",
    "import numpy as np\n",
    "# Read the parquet file into a pandas dataframe\n",
    "df = pd.read_parquet('SnowStorageDATA.parquet')\n",
    "df"
   ]
  },
  {
   "cell_type": "code",
   "execution_count": 2,
   "metadata": {},
   "outputs": [
    {
     "data": {
      "text/plain": [
       "8736"
      ]
     },
     "execution_count": 2,
     "metadata": {},
     "output_type": "execute_result"
    }
   ],
   "source": [
    "# Find the index where the first NaN value appears in the 'YEAR.1' column\n",
    "first_nan_index = df['YEAR.1'].isna().idxmax()\n",
    "first_nan_index"
   ]
  },
  {
   "cell_type": "code",
   "execution_count": 3,
   "metadata": {},
   "outputs": [
    {
     "data": {
      "text/html": [
       "<div>\n",
       "<style scoped>\n",
       "    .dataframe tbody tr th:only-of-type {\n",
       "        vertical-align: middle;\n",
       "    }\n",
       "\n",
       "    .dataframe tbody tr th {\n",
       "        vertical-align: top;\n",
       "    }\n",
       "\n",
       "    .dataframe thead th {\n",
       "        text-align: right;\n",
       "    }\n",
       "</style>\n",
       "<table border=\"1\" class=\"dataframe\">\n",
       "  <thead>\n",
       "    <tr style=\"text-align: right;\">\n",
       "      <th></th>\n",
       "      <th>YEAR</th>\n",
       "      <th>MO</th>\n",
       "      <th>DY</th>\n",
       "      <th>HR</th>\n",
       "      <th>PRECTOTCORR</th>\n",
       "      <th>Unnamed: 5</th>\n",
       "      <th>time</th>\n",
       "      <th>temperature_2m (°C)</th>\n",
       "      <th>YEAR.1</th>\n",
       "      <th>MO.1</th>\n",
       "      <th>DY.1</th>\n",
       "      <th>HR.1</th>\n",
       "      <th>ALLSKY_SFC_SW_DWN</th>\n",
       "      <th>time.1</th>\n",
       "      <th>wind_speed_10m (km/h)</th>\n",
       "      <th>Unnamed: 15</th>\n",
       "      <th>time.2</th>\n",
       "      <th>relative_humidity_2m (%)</th>\n",
       "    </tr>\n",
       "  </thead>\n",
       "  <tbody>\n",
       "    <tr>\n",
       "      <th>0</th>\n",
       "      <td>2023</td>\n",
       "      <td>1</td>\n",
       "      <td>1</td>\n",
       "      <td>0</td>\n",
       "      <td>0.06</td>\n",
       "      <td>0.00006</td>\n",
       "      <td>2023-01-01T00:00</td>\n",
       "      <td>5.4</td>\n",
       "      <td>2023.0</td>\n",
       "      <td>1.0</td>\n",
       "      <td>1.0</td>\n",
       "      <td>0.0</td>\n",
       "      <td>0.0</td>\n",
       "      <td>2023-01-01T00:00</td>\n",
       "      <td>25.6</td>\n",
       "      <td>7.1</td>\n",
       "      <td>2023-01-01T00:00</td>\n",
       "      <td>91</td>\n",
       "    </tr>\n",
       "    <tr>\n",
       "      <th>1</th>\n",
       "      <td>2023</td>\n",
       "      <td>1</td>\n",
       "      <td>1</td>\n",
       "      <td>1</td>\n",
       "      <td>0.03</td>\n",
       "      <td>0.00003</td>\n",
       "      <td>2023-01-01T01:00</td>\n",
       "      <td>5.2</td>\n",
       "      <td>2023.0</td>\n",
       "      <td>1.0</td>\n",
       "      <td>1.0</td>\n",
       "      <td>1.0</td>\n",
       "      <td>0.0</td>\n",
       "      <td>2023-01-01T01:00</td>\n",
       "      <td>24.1</td>\n",
       "      <td>6.7</td>\n",
       "      <td>2023-01-01T01:00</td>\n",
       "      <td>91</td>\n",
       "    </tr>\n",
       "    <tr>\n",
       "      <th>2</th>\n",
       "      <td>2023</td>\n",
       "      <td>1</td>\n",
       "      <td>1</td>\n",
       "      <td>2</td>\n",
       "      <td>0.02</td>\n",
       "      <td>0.00002</td>\n",
       "      <td>2023-01-01T02:00</td>\n",
       "      <td>5.1</td>\n",
       "      <td>2023.0</td>\n",
       "      <td>1.0</td>\n",
       "      <td>1.0</td>\n",
       "      <td>2.0</td>\n",
       "      <td>0.0</td>\n",
       "      <td>2023-01-01T02:00</td>\n",
       "      <td>24.8</td>\n",
       "      <td>6.9</td>\n",
       "      <td>2023-01-01T02:00</td>\n",
       "      <td>90</td>\n",
       "    </tr>\n",
       "    <tr>\n",
       "      <th>3</th>\n",
       "      <td>2023</td>\n",
       "      <td>1</td>\n",
       "      <td>1</td>\n",
       "      <td>3</td>\n",
       "      <td>0.01</td>\n",
       "      <td>0.00001</td>\n",
       "      <td>2023-01-01T03:00</td>\n",
       "      <td>4.8</td>\n",
       "      <td>2023.0</td>\n",
       "      <td>1.0</td>\n",
       "      <td>1.0</td>\n",
       "      <td>3.0</td>\n",
       "      <td>0.0</td>\n",
       "      <td>2023-01-01T03:00</td>\n",
       "      <td>23.8</td>\n",
       "      <td>6.6</td>\n",
       "      <td>2023-01-01T03:00</td>\n",
       "      <td>90</td>\n",
       "    </tr>\n",
       "    <tr>\n",
       "      <th>4</th>\n",
       "      <td>2023</td>\n",
       "      <td>1</td>\n",
       "      <td>1</td>\n",
       "      <td>4</td>\n",
       "      <td>0.01</td>\n",
       "      <td>0.00001</td>\n",
       "      <td>2023-01-01T04:00</td>\n",
       "      <td>4.4</td>\n",
       "      <td>2023.0</td>\n",
       "      <td>1.0</td>\n",
       "      <td>1.0</td>\n",
       "      <td>4.0</td>\n",
       "      <td>0.0</td>\n",
       "      <td>2023-01-01T04:00</td>\n",
       "      <td>23.4</td>\n",
       "      <td>6.5</td>\n",
       "      <td>2023-01-01T04:00</td>\n",
       "      <td>89</td>\n",
       "    </tr>\n",
       "    <tr>\n",
       "      <th>...</th>\n",
       "      <td>...</td>\n",
       "      <td>...</td>\n",
       "      <td>...</td>\n",
       "      <td>...</td>\n",
       "      <td>...</td>\n",
       "      <td>...</td>\n",
       "      <td>...</td>\n",
       "      <td>...</td>\n",
       "      <td>...</td>\n",
       "      <td>...</td>\n",
       "      <td>...</td>\n",
       "      <td>...</td>\n",
       "      <td>...</td>\n",
       "      <td>...</td>\n",
       "      <td>...</td>\n",
       "      <td>...</td>\n",
       "      <td>...</td>\n",
       "      <td>...</td>\n",
       "    </tr>\n",
       "    <tr>\n",
       "      <th>8731</th>\n",
       "      <td>2023</td>\n",
       "      <td>12</td>\n",
       "      <td>30</td>\n",
       "      <td>19</td>\n",
       "      <td>0.11</td>\n",
       "      <td>0.00011</td>\n",
       "      <td>2023-12-30T19:00</td>\n",
       "      <td>0.0</td>\n",
       "      <td>2023.0</td>\n",
       "      <td>12.0</td>\n",
       "      <td>30.0</td>\n",
       "      <td>19.0</td>\n",
       "      <td>0.0</td>\n",
       "      <td>2023-12-30T19:00</td>\n",
       "      <td>25.2</td>\n",
       "      <td>7.0</td>\n",
       "      <td>2023-12-30T19:00</td>\n",
       "      <td>89</td>\n",
       "    </tr>\n",
       "    <tr>\n",
       "      <th>8732</th>\n",
       "      <td>2023</td>\n",
       "      <td>12</td>\n",
       "      <td>30</td>\n",
       "      <td>20</td>\n",
       "      <td>0.09</td>\n",
       "      <td>0.00009</td>\n",
       "      <td>2023-12-30T20:00</td>\n",
       "      <td>-0.4</td>\n",
       "      <td>2023.0</td>\n",
       "      <td>12.0</td>\n",
       "      <td>30.0</td>\n",
       "      <td>20.0</td>\n",
       "      <td>0.0</td>\n",
       "      <td>2023-12-30T20:00</td>\n",
       "      <td>25.9</td>\n",
       "      <td>7.2</td>\n",
       "      <td>2023-12-30T20:00</td>\n",
       "      <td>86</td>\n",
       "    </tr>\n",
       "    <tr>\n",
       "      <th>8733</th>\n",
       "      <td>2023</td>\n",
       "      <td>12</td>\n",
       "      <td>30</td>\n",
       "      <td>21</td>\n",
       "      <td>0.08</td>\n",
       "      <td>0.00008</td>\n",
       "      <td>2023-12-30T21:00</td>\n",
       "      <td>-0.8</td>\n",
       "      <td>2023.0</td>\n",
       "      <td>12.0</td>\n",
       "      <td>30.0</td>\n",
       "      <td>21.0</td>\n",
       "      <td>0.0</td>\n",
       "      <td>2023-12-30T21:00</td>\n",
       "      <td>23.8</td>\n",
       "      <td>6.6</td>\n",
       "      <td>2023-12-30T21:00</td>\n",
       "      <td>85</td>\n",
       "    </tr>\n",
       "    <tr>\n",
       "      <th>8734</th>\n",
       "      <td>2023</td>\n",
       "      <td>12</td>\n",
       "      <td>30</td>\n",
       "      <td>22</td>\n",
       "      <td>0.07</td>\n",
       "      <td>0.00007</td>\n",
       "      <td>2023-12-30T22:00</td>\n",
       "      <td>-1.0</td>\n",
       "      <td>2023.0</td>\n",
       "      <td>12.0</td>\n",
       "      <td>30.0</td>\n",
       "      <td>22.0</td>\n",
       "      <td>0.0</td>\n",
       "      <td>2023-12-30T22:00</td>\n",
       "      <td>23.4</td>\n",
       "      <td>6.5</td>\n",
       "      <td>2023-12-30T22:00</td>\n",
       "      <td>84</td>\n",
       "    </tr>\n",
       "    <tr>\n",
       "      <th>8735</th>\n",
       "      <td>2023</td>\n",
       "      <td>12</td>\n",
       "      <td>30</td>\n",
       "      <td>23</td>\n",
       "      <td>0.05</td>\n",
       "      <td>0.00005</td>\n",
       "      <td>2023-12-30T23:00</td>\n",
       "      <td>-1.5</td>\n",
       "      <td>2023.0</td>\n",
       "      <td>12.0</td>\n",
       "      <td>30.0</td>\n",
       "      <td>23.0</td>\n",
       "      <td>0.0</td>\n",
       "      <td>2023-12-30T23:00</td>\n",
       "      <td>27.0</td>\n",
       "      <td>7.5</td>\n",
       "      <td>2023-12-30T23:00</td>\n",
       "      <td>86</td>\n",
       "    </tr>\n",
       "  </tbody>\n",
       "</table>\n",
       "<p>8736 rows × 18 columns</p>\n",
       "</div>"
      ],
      "text/plain": [
       "      YEAR  MO  DY  HR  PRECTOTCORR  Unnamed: 5              time  \\\n",
       "0     2023   1   1   0         0.06     0.00006  2023-01-01T00:00   \n",
       "1     2023   1   1   1         0.03     0.00003  2023-01-01T01:00   \n",
       "2     2023   1   1   2         0.02     0.00002  2023-01-01T02:00   \n",
       "3     2023   1   1   3         0.01     0.00001  2023-01-01T03:00   \n",
       "4     2023   1   1   4         0.01     0.00001  2023-01-01T04:00   \n",
       "...    ...  ..  ..  ..          ...         ...               ...   \n",
       "8731  2023  12  30  19         0.11     0.00011  2023-12-30T19:00   \n",
       "8732  2023  12  30  20         0.09     0.00009  2023-12-30T20:00   \n",
       "8733  2023  12  30  21         0.08     0.00008  2023-12-30T21:00   \n",
       "8734  2023  12  30  22         0.07     0.00007  2023-12-30T22:00   \n",
       "8735  2023  12  30  23         0.05     0.00005  2023-12-30T23:00   \n",
       "\n",
       "      temperature_2m (°C)  YEAR.1  MO.1  DY.1  HR.1  ALLSKY_SFC_SW_DWN  \\\n",
       "0                     5.4  2023.0   1.0   1.0   0.0                0.0   \n",
       "1                     5.2  2023.0   1.0   1.0   1.0                0.0   \n",
       "2                     5.1  2023.0   1.0   1.0   2.0                0.0   \n",
       "3                     4.8  2023.0   1.0   1.0   3.0                0.0   \n",
       "4                     4.4  2023.0   1.0   1.0   4.0                0.0   \n",
       "...                   ...     ...   ...   ...   ...                ...   \n",
       "8731                  0.0  2023.0  12.0  30.0  19.0                0.0   \n",
       "8732                 -0.4  2023.0  12.0  30.0  20.0                0.0   \n",
       "8733                 -0.8  2023.0  12.0  30.0  21.0                0.0   \n",
       "8734                 -1.0  2023.0  12.0  30.0  22.0                0.0   \n",
       "8735                 -1.5  2023.0  12.0  30.0  23.0                0.0   \n",
       "\n",
       "                time.1  wind_speed_10m (km/h)  Unnamed: 15            time.2  \\\n",
       "0     2023-01-01T00:00                   25.6          7.1  2023-01-01T00:00   \n",
       "1     2023-01-01T01:00                   24.1          6.7  2023-01-01T01:00   \n",
       "2     2023-01-01T02:00                   24.8          6.9  2023-01-01T02:00   \n",
       "3     2023-01-01T03:00                   23.8          6.6  2023-01-01T03:00   \n",
       "4     2023-01-01T04:00                   23.4          6.5  2023-01-01T04:00   \n",
       "...                ...                    ...          ...               ...   \n",
       "8731  2023-12-30T19:00                   25.2          7.0  2023-12-30T19:00   \n",
       "8732  2023-12-30T20:00                   25.9          7.2  2023-12-30T20:00   \n",
       "8733  2023-12-30T21:00                   23.8          6.6  2023-12-30T21:00   \n",
       "8734  2023-12-30T22:00                   23.4          6.5  2023-12-30T22:00   \n",
       "8735  2023-12-30T23:00                   27.0          7.5  2023-12-30T23:00   \n",
       "\n",
       "      relative_humidity_2m (%)  \n",
       "0                           91  \n",
       "1                           91  \n",
       "2                           90  \n",
       "3                           90  \n",
       "4                           89  \n",
       "...                        ...  \n",
       "8731                        89  \n",
       "8732                        86  \n",
       "8733                        85  \n",
       "8734                        84  \n",
       "8735                        86  \n",
       "\n",
       "[8736 rows x 18 columns]"
      ]
     },
     "execution_count": 3,
     "metadata": {},
     "output_type": "execute_result"
    }
   ],
   "source": [
    "# Drop all rows after the first NaN value in the 'YEAR.1' column\n",
    "df_wo_nan = df.loc[:first_nan_index-1]\n",
    "df_wo_nan"
   ]
  },
  {
   "cell_type": "code",
   "execution_count": 4,
   "metadata": {},
   "outputs": [
    {
     "data": {
      "text/html": [
       "<div>\n",
       "<style scoped>\n",
       "    .dataframe tbody tr th:only-of-type {\n",
       "        vertical-align: middle;\n",
       "    }\n",
       "\n",
       "    .dataframe tbody tr th {\n",
       "        vertical-align: top;\n",
       "    }\n",
       "\n",
       "    .dataframe thead th {\n",
       "        text-align: right;\n",
       "    }\n",
       "</style>\n",
       "<table border=\"1\" class=\"dataframe\">\n",
       "  <thead>\n",
       "    <tr style=\"text-align: right;\">\n",
       "      <th></th>\n",
       "      <th>YEAR</th>\n",
       "      <th>MO</th>\n",
       "      <th>DY</th>\n",
       "      <th>HR</th>\n",
       "      <th>PRECTOTCORR</th>\n",
       "      <th>Unnamed: 5</th>\n",
       "      <th>time</th>\n",
       "      <th>temperature_2m (°C)</th>\n",
       "      <th>YEAR.1</th>\n",
       "      <th>MO.1</th>\n",
       "      <th>DY.1</th>\n",
       "      <th>HR.1</th>\n",
       "      <th>ALLSKY_SFC_SW_DWN</th>\n",
       "      <th>time.1</th>\n",
       "      <th>wind_speed_10m (km/h)</th>\n",
       "      <th>Unnamed: 15</th>\n",
       "      <th>time.2</th>\n",
       "      <th>relative_humidity_2m (%)</th>\n",
       "    </tr>\n",
       "  </thead>\n",
       "  <tbody>\n",
       "    <tr>\n",
       "      <th>2160</th>\n",
       "      <td>2023</td>\n",
       "      <td>4</td>\n",
       "      <td>1</td>\n",
       "      <td>0</td>\n",
       "      <td>0.00</td>\n",
       "      <td>0.00000</td>\n",
       "      <td>2023-04-01T00:00</td>\n",
       "      <td>0.2</td>\n",
       "      <td>2023.0</td>\n",
       "      <td>4.0</td>\n",
       "      <td>1.0</td>\n",
       "      <td>0.0</td>\n",
       "      <td>0.00</td>\n",
       "      <td>2023-04-01T00:00</td>\n",
       "      <td>21.6</td>\n",
       "      <td>6.0</td>\n",
       "      <td>2023-04-01T00:00</td>\n",
       "      <td>72</td>\n",
       "    </tr>\n",
       "    <tr>\n",
       "      <th>2161</th>\n",
       "      <td>2023</td>\n",
       "      <td>4</td>\n",
       "      <td>1</td>\n",
       "      <td>1</td>\n",
       "      <td>0.01</td>\n",
       "      <td>0.00001</td>\n",
       "      <td>2023-04-01T01:00</td>\n",
       "      <td>0.1</td>\n",
       "      <td>2023.0</td>\n",
       "      <td>4.0</td>\n",
       "      <td>1.0</td>\n",
       "      <td>1.0</td>\n",
       "      <td>0.00</td>\n",
       "      <td>2023-04-01T01:00</td>\n",
       "      <td>22.0</td>\n",
       "      <td>6.1</td>\n",
       "      <td>2023-04-01T01:00</td>\n",
       "      <td>75</td>\n",
       "    </tr>\n",
       "    <tr>\n",
       "      <th>2162</th>\n",
       "      <td>2023</td>\n",
       "      <td>4</td>\n",
       "      <td>1</td>\n",
       "      <td>2</td>\n",
       "      <td>0.01</td>\n",
       "      <td>0.00001</td>\n",
       "      <td>2023-04-01T02:00</td>\n",
       "      <td>-0.1</td>\n",
       "      <td>2023.0</td>\n",
       "      <td>4.0</td>\n",
       "      <td>1.0</td>\n",
       "      <td>2.0</td>\n",
       "      <td>0.00</td>\n",
       "      <td>2023-04-01T02:00</td>\n",
       "      <td>23.4</td>\n",
       "      <td>6.5</td>\n",
       "      <td>2023-04-01T02:00</td>\n",
       "      <td>65</td>\n",
       "    </tr>\n",
       "    <tr>\n",
       "      <th>2163</th>\n",
       "      <td>2023</td>\n",
       "      <td>4</td>\n",
       "      <td>1</td>\n",
       "      <td>3</td>\n",
       "      <td>0.01</td>\n",
       "      <td>0.00001</td>\n",
       "      <td>2023-04-01T03:00</td>\n",
       "      <td>-0.2</td>\n",
       "      <td>2023.0</td>\n",
       "      <td>4.0</td>\n",
       "      <td>1.0</td>\n",
       "      <td>3.0</td>\n",
       "      <td>0.00</td>\n",
       "      <td>2023-04-01T03:00</td>\n",
       "      <td>23.4</td>\n",
       "      <td>6.5</td>\n",
       "      <td>2023-04-01T03:00</td>\n",
       "      <td>77</td>\n",
       "    </tr>\n",
       "    <tr>\n",
       "      <th>2164</th>\n",
       "      <td>2023</td>\n",
       "      <td>4</td>\n",
       "      <td>1</td>\n",
       "      <td>4</td>\n",
       "      <td>0.00</td>\n",
       "      <td>0.00000</td>\n",
       "      <td>2023-04-01T04:00</td>\n",
       "      <td>-0.4</td>\n",
       "      <td>2023.0</td>\n",
       "      <td>4.0</td>\n",
       "      <td>1.0</td>\n",
       "      <td>4.0</td>\n",
       "      <td>34.09</td>\n",
       "      <td>2023-04-01T04:00</td>\n",
       "      <td>25.2</td>\n",
       "      <td>7.0</td>\n",
       "      <td>2023-04-01T04:00</td>\n",
       "      <td>78</td>\n",
       "    </tr>\n",
       "    <tr>\n",
       "      <th>...</th>\n",
       "      <td>...</td>\n",
       "      <td>...</td>\n",
       "      <td>...</td>\n",
       "      <td>...</td>\n",
       "      <td>...</td>\n",
       "      <td>...</td>\n",
       "      <td>...</td>\n",
       "      <td>...</td>\n",
       "      <td>...</td>\n",
       "      <td>...</td>\n",
       "      <td>...</td>\n",
       "      <td>...</td>\n",
       "      <td>...</td>\n",
       "      <td>...</td>\n",
       "      <td>...</td>\n",
       "      <td>...</td>\n",
       "      <td>...</td>\n",
       "      <td>...</td>\n",
       "    </tr>\n",
       "    <tr>\n",
       "      <th>5827</th>\n",
       "      <td>2023</td>\n",
       "      <td>8</td>\n",
       "      <td>31</td>\n",
       "      <td>19</td>\n",
       "      <td>0.00</td>\n",
       "      <td>0.00000</td>\n",
       "      <td>2023-08-31T19:00</td>\n",
       "      <td>17.5</td>\n",
       "      <td>2023.0</td>\n",
       "      <td>8.0</td>\n",
       "      <td>31.0</td>\n",
       "      <td>19.0</td>\n",
       "      <td>0.00</td>\n",
       "      <td>2023-08-31T19:00</td>\n",
       "      <td>14.4</td>\n",
       "      <td>4.0</td>\n",
       "      <td>2023-08-31T19:00</td>\n",
       "      <td>86</td>\n",
       "    </tr>\n",
       "    <tr>\n",
       "      <th>5828</th>\n",
       "      <td>2023</td>\n",
       "      <td>8</td>\n",
       "      <td>31</td>\n",
       "      <td>20</td>\n",
       "      <td>0.00</td>\n",
       "      <td>0.00000</td>\n",
       "      <td>2023-08-31T20:00</td>\n",
       "      <td>17.1</td>\n",
       "      <td>2023.0</td>\n",
       "      <td>8.0</td>\n",
       "      <td>31.0</td>\n",
       "      <td>20.0</td>\n",
       "      <td>0.00</td>\n",
       "      <td>2023-08-31T20:00</td>\n",
       "      <td>14.8</td>\n",
       "      <td>4.1</td>\n",
       "      <td>2023-08-31T20:00</td>\n",
       "      <td>88</td>\n",
       "    </tr>\n",
       "    <tr>\n",
       "      <th>5829</th>\n",
       "      <td>2023</td>\n",
       "      <td>8</td>\n",
       "      <td>31</td>\n",
       "      <td>21</td>\n",
       "      <td>0.00</td>\n",
       "      <td>0.00000</td>\n",
       "      <td>2023-08-31T21:00</td>\n",
       "      <td>16.9</td>\n",
       "      <td>2023.0</td>\n",
       "      <td>8.0</td>\n",
       "      <td>31.0</td>\n",
       "      <td>21.0</td>\n",
       "      <td>0.00</td>\n",
       "      <td>2023-08-31T21:00</td>\n",
       "      <td>13.7</td>\n",
       "      <td>3.8</td>\n",
       "      <td>2023-08-31T21:00</td>\n",
       "      <td>91</td>\n",
       "    </tr>\n",
       "    <tr>\n",
       "      <th>5830</th>\n",
       "      <td>2023</td>\n",
       "      <td>8</td>\n",
       "      <td>31</td>\n",
       "      <td>22</td>\n",
       "      <td>0.01</td>\n",
       "      <td>0.00001</td>\n",
       "      <td>2023-08-31T22:00</td>\n",
       "      <td>16.5</td>\n",
       "      <td>2023.0</td>\n",
       "      <td>8.0</td>\n",
       "      <td>31.0</td>\n",
       "      <td>22.0</td>\n",
       "      <td>0.00</td>\n",
       "      <td>2023-08-31T22:00</td>\n",
       "      <td>13.0</td>\n",
       "      <td>3.6</td>\n",
       "      <td>2023-08-31T22:00</td>\n",
       "      <td>91</td>\n",
       "    </tr>\n",
       "    <tr>\n",
       "      <th>5831</th>\n",
       "      <td>2023</td>\n",
       "      <td>8</td>\n",
       "      <td>31</td>\n",
       "      <td>23</td>\n",
       "      <td>0.01</td>\n",
       "      <td>0.00001</td>\n",
       "      <td>2023-08-31T23:00</td>\n",
       "      <td>15.8</td>\n",
       "      <td>2023.0</td>\n",
       "      <td>8.0</td>\n",
       "      <td>31.0</td>\n",
       "      <td>23.0</td>\n",
       "      <td>0.00</td>\n",
       "      <td>2023-08-31T23:00</td>\n",
       "      <td>10.1</td>\n",
       "      <td>2.8</td>\n",
       "      <td>2023-08-31T23:00</td>\n",
       "      <td>93</td>\n",
       "    </tr>\n",
       "  </tbody>\n",
       "</table>\n",
       "<p>3672 rows × 18 columns</p>\n",
       "</div>"
      ],
      "text/plain": [
       "      YEAR  MO  DY  HR  PRECTOTCORR  Unnamed: 5              time  \\\n",
       "2160  2023   4   1   0         0.00     0.00000  2023-04-01T00:00   \n",
       "2161  2023   4   1   1         0.01     0.00001  2023-04-01T01:00   \n",
       "2162  2023   4   1   2         0.01     0.00001  2023-04-01T02:00   \n",
       "2163  2023   4   1   3         0.01     0.00001  2023-04-01T03:00   \n",
       "2164  2023   4   1   4         0.00     0.00000  2023-04-01T04:00   \n",
       "...    ...  ..  ..  ..          ...         ...               ...   \n",
       "5827  2023   8  31  19         0.00     0.00000  2023-08-31T19:00   \n",
       "5828  2023   8  31  20         0.00     0.00000  2023-08-31T20:00   \n",
       "5829  2023   8  31  21         0.00     0.00000  2023-08-31T21:00   \n",
       "5830  2023   8  31  22         0.01     0.00001  2023-08-31T22:00   \n",
       "5831  2023   8  31  23         0.01     0.00001  2023-08-31T23:00   \n",
       "\n",
       "      temperature_2m (°C)  YEAR.1  MO.1  DY.1  HR.1  ALLSKY_SFC_SW_DWN  \\\n",
       "2160                  0.2  2023.0   4.0   1.0   0.0               0.00   \n",
       "2161                  0.1  2023.0   4.0   1.0   1.0               0.00   \n",
       "2162                 -0.1  2023.0   4.0   1.0   2.0               0.00   \n",
       "2163                 -0.2  2023.0   4.0   1.0   3.0               0.00   \n",
       "2164                 -0.4  2023.0   4.0   1.0   4.0              34.09   \n",
       "...                   ...     ...   ...   ...   ...                ...   \n",
       "5827                 17.5  2023.0   8.0  31.0  19.0               0.00   \n",
       "5828                 17.1  2023.0   8.0  31.0  20.0               0.00   \n",
       "5829                 16.9  2023.0   8.0  31.0  21.0               0.00   \n",
       "5830                 16.5  2023.0   8.0  31.0  22.0               0.00   \n",
       "5831                 15.8  2023.0   8.0  31.0  23.0               0.00   \n",
       "\n",
       "                time.1  wind_speed_10m (km/h)  Unnamed: 15            time.2  \\\n",
       "2160  2023-04-01T00:00                   21.6          6.0  2023-04-01T00:00   \n",
       "2161  2023-04-01T01:00                   22.0          6.1  2023-04-01T01:00   \n",
       "2162  2023-04-01T02:00                   23.4          6.5  2023-04-01T02:00   \n",
       "2163  2023-04-01T03:00                   23.4          6.5  2023-04-01T03:00   \n",
       "2164  2023-04-01T04:00                   25.2          7.0  2023-04-01T04:00   \n",
       "...                ...                    ...          ...               ...   \n",
       "5827  2023-08-31T19:00                   14.4          4.0  2023-08-31T19:00   \n",
       "5828  2023-08-31T20:00                   14.8          4.1  2023-08-31T20:00   \n",
       "5829  2023-08-31T21:00                   13.7          3.8  2023-08-31T21:00   \n",
       "5830  2023-08-31T22:00                   13.0          3.6  2023-08-31T22:00   \n",
       "5831  2023-08-31T23:00                   10.1          2.8  2023-08-31T23:00   \n",
       "\n",
       "      relative_humidity_2m (%)  \n",
       "2160                        72  \n",
       "2161                        75  \n",
       "2162                        65  \n",
       "2163                        77  \n",
       "2164                        78  \n",
       "...                        ...  \n",
       "5827                        86  \n",
       "5828                        88  \n",
       "5829                        91  \n",
       "5830                        91  \n",
       "5831                        93  \n",
       "\n",
       "[3672 rows x 18 columns]"
      ]
     },
     "execution_count": 4,
     "metadata": {},
     "output_type": "execute_result"
    }
   ],
   "source": [
    "# Find the index where 'time.1' starts at '2023-04-01T00:00'\n",
    "period_start_in = df[df['time.1'] == '2023-04-01T00:00'].index[0]\n",
    "\n",
    "# Find the index where 'time.1' ends at '2023-05-01T00:00' (example stop period)\n",
    "period_end_in = df[df['time.1'] == '2023-08-31T23:00'].index[0]\n",
    "\n",
    "# Slice the DataFrame to include only the desired period\n",
    "df_wo_nan_period = df_wo_nan.loc[period_start_in:period_end_in]\n",
    "\n",
    "df_wo_nan_period"
   ]
  },
  {
   "cell_type": "code",
   "execution_count": 5,
   "metadata": {},
   "outputs": [
    {
     "data": {
      "text/html": [
       "<div>\n",
       "<style scoped>\n",
       "    .dataframe tbody tr th:only-of-type {\n",
       "        vertical-align: middle;\n",
       "    }\n",
       "\n",
       "    .dataframe tbody tr th {\n",
       "        vertical-align: top;\n",
       "    }\n",
       "\n",
       "    .dataframe thead th {\n",
       "        text-align: right;\n",
       "    }\n",
       "</style>\n",
       "<table border=\"1\" class=\"dataframe\">\n",
       "  <thead>\n",
       "    <tr style=\"text-align: right;\">\n",
       "      <th></th>\n",
       "      <th>YEAR</th>\n",
       "      <th>MO</th>\n",
       "      <th>DY</th>\n",
       "      <th>HR</th>\n",
       "      <th>PRECTOTCORR</th>\n",
       "      <th>Unnamed: 5</th>\n",
       "      <th>time</th>\n",
       "      <th>temperature_2m (°C)</th>\n",
       "      <th>YEAR.1</th>\n",
       "      <th>MO.1</th>\n",
       "      <th>DY.1</th>\n",
       "      <th>HR.1</th>\n",
       "      <th>ALLSKY_SFC_SW_DWN</th>\n",
       "      <th>time.1</th>\n",
       "      <th>wind_speed_10m (km/h)</th>\n",
       "      <th>Unnamed: 15</th>\n",
       "      <th>time.2</th>\n",
       "      <th>relative_humidity_2m (%)</th>\n",
       "    </tr>\n",
       "  </thead>\n",
       "  <tbody>\n",
       "    <tr>\n",
       "      <th>0</th>\n",
       "      <td>2023</td>\n",
       "      <td>4</td>\n",
       "      <td>1</td>\n",
       "      <td>0</td>\n",
       "      <td>0.00</td>\n",
       "      <td>0.00000</td>\n",
       "      <td>2023-04-01T00:00</td>\n",
       "      <td>0.2</td>\n",
       "      <td>2023.0</td>\n",
       "      <td>4.0</td>\n",
       "      <td>1.0</td>\n",
       "      <td>0.0</td>\n",
       "      <td>0.00</td>\n",
       "      <td>2023-04-01T00:00</td>\n",
       "      <td>21.6</td>\n",
       "      <td>6.0</td>\n",
       "      <td>2023-04-01T00:00</td>\n",
       "      <td>72</td>\n",
       "    </tr>\n",
       "    <tr>\n",
       "      <th>1</th>\n",
       "      <td>2023</td>\n",
       "      <td>4</td>\n",
       "      <td>1</td>\n",
       "      <td>1</td>\n",
       "      <td>0.01</td>\n",
       "      <td>0.00001</td>\n",
       "      <td>2023-04-01T01:00</td>\n",
       "      <td>0.1</td>\n",
       "      <td>2023.0</td>\n",
       "      <td>4.0</td>\n",
       "      <td>1.0</td>\n",
       "      <td>1.0</td>\n",
       "      <td>0.00</td>\n",
       "      <td>2023-04-01T01:00</td>\n",
       "      <td>22.0</td>\n",
       "      <td>6.1</td>\n",
       "      <td>2023-04-01T01:00</td>\n",
       "      <td>75</td>\n",
       "    </tr>\n",
       "    <tr>\n",
       "      <th>2</th>\n",
       "      <td>2023</td>\n",
       "      <td>4</td>\n",
       "      <td>1</td>\n",
       "      <td>2</td>\n",
       "      <td>0.01</td>\n",
       "      <td>0.00001</td>\n",
       "      <td>2023-04-01T02:00</td>\n",
       "      <td>-0.1</td>\n",
       "      <td>2023.0</td>\n",
       "      <td>4.0</td>\n",
       "      <td>1.0</td>\n",
       "      <td>2.0</td>\n",
       "      <td>0.00</td>\n",
       "      <td>2023-04-01T02:00</td>\n",
       "      <td>23.4</td>\n",
       "      <td>6.5</td>\n",
       "      <td>2023-04-01T02:00</td>\n",
       "      <td>65</td>\n",
       "    </tr>\n",
       "    <tr>\n",
       "      <th>3</th>\n",
       "      <td>2023</td>\n",
       "      <td>4</td>\n",
       "      <td>1</td>\n",
       "      <td>3</td>\n",
       "      <td>0.01</td>\n",
       "      <td>0.00001</td>\n",
       "      <td>2023-04-01T03:00</td>\n",
       "      <td>-0.2</td>\n",
       "      <td>2023.0</td>\n",
       "      <td>4.0</td>\n",
       "      <td>1.0</td>\n",
       "      <td>3.0</td>\n",
       "      <td>0.00</td>\n",
       "      <td>2023-04-01T03:00</td>\n",
       "      <td>23.4</td>\n",
       "      <td>6.5</td>\n",
       "      <td>2023-04-01T03:00</td>\n",
       "      <td>77</td>\n",
       "    </tr>\n",
       "    <tr>\n",
       "      <th>4</th>\n",
       "      <td>2023</td>\n",
       "      <td>4</td>\n",
       "      <td>1</td>\n",
       "      <td>4</td>\n",
       "      <td>0.00</td>\n",
       "      <td>0.00000</td>\n",
       "      <td>2023-04-01T04:00</td>\n",
       "      <td>-0.4</td>\n",
       "      <td>2023.0</td>\n",
       "      <td>4.0</td>\n",
       "      <td>1.0</td>\n",
       "      <td>4.0</td>\n",
       "      <td>34.09</td>\n",
       "      <td>2023-04-01T04:00</td>\n",
       "      <td>25.2</td>\n",
       "      <td>7.0</td>\n",
       "      <td>2023-04-01T04:00</td>\n",
       "      <td>78</td>\n",
       "    </tr>\n",
       "    <tr>\n",
       "      <th>...</th>\n",
       "      <td>...</td>\n",
       "      <td>...</td>\n",
       "      <td>...</td>\n",
       "      <td>...</td>\n",
       "      <td>...</td>\n",
       "      <td>...</td>\n",
       "      <td>...</td>\n",
       "      <td>...</td>\n",
       "      <td>...</td>\n",
       "      <td>...</td>\n",
       "      <td>...</td>\n",
       "      <td>...</td>\n",
       "      <td>...</td>\n",
       "      <td>...</td>\n",
       "      <td>...</td>\n",
       "      <td>...</td>\n",
       "      <td>...</td>\n",
       "      <td>...</td>\n",
       "    </tr>\n",
       "    <tr>\n",
       "      <th>3667</th>\n",
       "      <td>2023</td>\n",
       "      <td>8</td>\n",
       "      <td>31</td>\n",
       "      <td>19</td>\n",
       "      <td>0.00</td>\n",
       "      <td>0.00000</td>\n",
       "      <td>2023-08-31T19:00</td>\n",
       "      <td>17.5</td>\n",
       "      <td>2023.0</td>\n",
       "      <td>8.0</td>\n",
       "      <td>31.0</td>\n",
       "      <td>19.0</td>\n",
       "      <td>0.00</td>\n",
       "      <td>2023-08-31T19:00</td>\n",
       "      <td>14.4</td>\n",
       "      <td>4.0</td>\n",
       "      <td>2023-08-31T19:00</td>\n",
       "      <td>86</td>\n",
       "    </tr>\n",
       "    <tr>\n",
       "      <th>3668</th>\n",
       "      <td>2023</td>\n",
       "      <td>8</td>\n",
       "      <td>31</td>\n",
       "      <td>20</td>\n",
       "      <td>0.00</td>\n",
       "      <td>0.00000</td>\n",
       "      <td>2023-08-31T20:00</td>\n",
       "      <td>17.1</td>\n",
       "      <td>2023.0</td>\n",
       "      <td>8.0</td>\n",
       "      <td>31.0</td>\n",
       "      <td>20.0</td>\n",
       "      <td>0.00</td>\n",
       "      <td>2023-08-31T20:00</td>\n",
       "      <td>14.8</td>\n",
       "      <td>4.1</td>\n",
       "      <td>2023-08-31T20:00</td>\n",
       "      <td>88</td>\n",
       "    </tr>\n",
       "    <tr>\n",
       "      <th>3669</th>\n",
       "      <td>2023</td>\n",
       "      <td>8</td>\n",
       "      <td>31</td>\n",
       "      <td>21</td>\n",
       "      <td>0.00</td>\n",
       "      <td>0.00000</td>\n",
       "      <td>2023-08-31T21:00</td>\n",
       "      <td>16.9</td>\n",
       "      <td>2023.0</td>\n",
       "      <td>8.0</td>\n",
       "      <td>31.0</td>\n",
       "      <td>21.0</td>\n",
       "      <td>0.00</td>\n",
       "      <td>2023-08-31T21:00</td>\n",
       "      <td>13.7</td>\n",
       "      <td>3.8</td>\n",
       "      <td>2023-08-31T21:00</td>\n",
       "      <td>91</td>\n",
       "    </tr>\n",
       "    <tr>\n",
       "      <th>3670</th>\n",
       "      <td>2023</td>\n",
       "      <td>8</td>\n",
       "      <td>31</td>\n",
       "      <td>22</td>\n",
       "      <td>0.01</td>\n",
       "      <td>0.00001</td>\n",
       "      <td>2023-08-31T22:00</td>\n",
       "      <td>16.5</td>\n",
       "      <td>2023.0</td>\n",
       "      <td>8.0</td>\n",
       "      <td>31.0</td>\n",
       "      <td>22.0</td>\n",
       "      <td>0.00</td>\n",
       "      <td>2023-08-31T22:00</td>\n",
       "      <td>13.0</td>\n",
       "      <td>3.6</td>\n",
       "      <td>2023-08-31T22:00</td>\n",
       "      <td>91</td>\n",
       "    </tr>\n",
       "    <tr>\n",
       "      <th>3671</th>\n",
       "      <td>2023</td>\n",
       "      <td>8</td>\n",
       "      <td>31</td>\n",
       "      <td>23</td>\n",
       "      <td>0.01</td>\n",
       "      <td>0.00001</td>\n",
       "      <td>2023-08-31T23:00</td>\n",
       "      <td>15.8</td>\n",
       "      <td>2023.0</td>\n",
       "      <td>8.0</td>\n",
       "      <td>31.0</td>\n",
       "      <td>23.0</td>\n",
       "      <td>0.00</td>\n",
       "      <td>2023-08-31T23:00</td>\n",
       "      <td>10.1</td>\n",
       "      <td>2.8</td>\n",
       "      <td>2023-08-31T23:00</td>\n",
       "      <td>93</td>\n",
       "    </tr>\n",
       "  </tbody>\n",
       "</table>\n",
       "<p>3672 rows × 18 columns</p>\n",
       "</div>"
      ],
      "text/plain": [
       "      YEAR  MO  DY  HR  PRECTOTCORR  Unnamed: 5              time  \\\n",
       "0     2023   4   1   0         0.00     0.00000  2023-04-01T00:00   \n",
       "1     2023   4   1   1         0.01     0.00001  2023-04-01T01:00   \n",
       "2     2023   4   1   2         0.01     0.00001  2023-04-01T02:00   \n",
       "3     2023   4   1   3         0.01     0.00001  2023-04-01T03:00   \n",
       "4     2023   4   1   4         0.00     0.00000  2023-04-01T04:00   \n",
       "...    ...  ..  ..  ..          ...         ...               ...   \n",
       "3667  2023   8  31  19         0.00     0.00000  2023-08-31T19:00   \n",
       "3668  2023   8  31  20         0.00     0.00000  2023-08-31T20:00   \n",
       "3669  2023   8  31  21         0.00     0.00000  2023-08-31T21:00   \n",
       "3670  2023   8  31  22         0.01     0.00001  2023-08-31T22:00   \n",
       "3671  2023   8  31  23         0.01     0.00001  2023-08-31T23:00   \n",
       "\n",
       "      temperature_2m (°C)  YEAR.1  MO.1  DY.1  HR.1  ALLSKY_SFC_SW_DWN  \\\n",
       "0                     0.2  2023.0   4.0   1.0   0.0               0.00   \n",
       "1                     0.1  2023.0   4.0   1.0   1.0               0.00   \n",
       "2                    -0.1  2023.0   4.0   1.0   2.0               0.00   \n",
       "3                    -0.2  2023.0   4.0   1.0   3.0               0.00   \n",
       "4                    -0.4  2023.0   4.0   1.0   4.0              34.09   \n",
       "...                   ...     ...   ...   ...   ...                ...   \n",
       "3667                 17.5  2023.0   8.0  31.0  19.0               0.00   \n",
       "3668                 17.1  2023.0   8.0  31.0  20.0               0.00   \n",
       "3669                 16.9  2023.0   8.0  31.0  21.0               0.00   \n",
       "3670                 16.5  2023.0   8.0  31.0  22.0               0.00   \n",
       "3671                 15.8  2023.0   8.0  31.0  23.0               0.00   \n",
       "\n",
       "                time.1  wind_speed_10m (km/h)  Unnamed: 15            time.2  \\\n",
       "0     2023-04-01T00:00                   21.6          6.0  2023-04-01T00:00   \n",
       "1     2023-04-01T01:00                   22.0          6.1  2023-04-01T01:00   \n",
       "2     2023-04-01T02:00                   23.4          6.5  2023-04-01T02:00   \n",
       "3     2023-04-01T03:00                   23.4          6.5  2023-04-01T03:00   \n",
       "4     2023-04-01T04:00                   25.2          7.0  2023-04-01T04:00   \n",
       "...                ...                    ...          ...               ...   \n",
       "3667  2023-08-31T19:00                   14.4          4.0  2023-08-31T19:00   \n",
       "3668  2023-08-31T20:00                   14.8          4.1  2023-08-31T20:00   \n",
       "3669  2023-08-31T21:00                   13.7          3.8  2023-08-31T21:00   \n",
       "3670  2023-08-31T22:00                   13.0          3.6  2023-08-31T22:00   \n",
       "3671  2023-08-31T23:00                   10.1          2.8  2023-08-31T23:00   \n",
       "\n",
       "      relative_humidity_2m (%)  \n",
       "0                           72  \n",
       "1                           75  \n",
       "2                           65  \n",
       "3                           77  \n",
       "4                           78  \n",
       "...                        ...  \n",
       "3667                        86  \n",
       "3668                        88  \n",
       "3669                        91  \n",
       "3670                        91  \n",
       "3671                        93  \n",
       "\n",
       "[3672 rows x 18 columns]"
      ]
     },
     "execution_count": 5,
     "metadata": {},
     "output_type": "execute_result"
    }
   ],
   "source": [
    "# Reset indecies for new dataframe\n",
    "df_wo_nan_period_reset = df_wo_nan_period.reset_index(drop=True)\n",
    "df_wo_nan_period_reset"
   ]
  },
  {
   "cell_type": "code",
   "execution_count": 6,
   "metadata": {},
   "outputs": [
    {
     "data": {
      "text/plain": [
       "0       6.0\n",
       "1       6.1\n",
       "2       6.5\n",
       "3       6.5\n",
       "4       7.0\n",
       "       ... \n",
       "3667    4.0\n",
       "3668    4.1\n",
       "3669    3.8\n",
       "3670    3.6\n",
       "3671    2.8\n",
       "Name: Unnamed: 15, Length: 3672, dtype: float64"
      ]
     },
     "execution_count": 6,
     "metadata": {},
     "output_type": "execute_result"
    }
   ],
   "source": [
    "# Extract the air velocity column from the dataframe\n",
    "df_air_vel = df_wo_nan_period_reset.iloc[:, 15]\n",
    "df_air_vel"
   ]
  },
  {
   "cell_type": "code",
   "execution_count": 7,
   "metadata": {},
   "outputs": [
    {
     "data": {
      "text/plain": [
       "0        0.2\n",
       "1        0.1\n",
       "2       -0.1\n",
       "3       -0.2\n",
       "4       -0.4\n",
       "        ... \n",
       "3667    17.5\n",
       "3668    17.1\n",
       "3669    16.9\n",
       "3670    16.5\n",
       "3671    15.8\n",
       "Name: temperature_2m (°C), Length: 3672, dtype: float64"
      ]
     },
     "execution_count": 7,
     "metadata": {},
     "output_type": "execute_result"
    }
   ],
   "source": [
    "# Extract the air temperature column from the dataframe\n",
    "df_air_temp = df_wo_nan_period_reset.iloc[:, 7]\n",
    "df_air_temp"
   ]
  },
  {
   "cell_type": "code",
   "execution_count": 8,
   "metadata": {},
   "outputs": [
    {
     "data": {
      "text/plain": [
       "0       0.00000\n",
       "1       0.00001\n",
       "2       0.00001\n",
       "3       0.00001\n",
       "4       0.00000\n",
       "         ...   \n",
       "3667    0.00000\n",
       "3668    0.00000\n",
       "3669    0.00000\n",
       "3670    0.00001\n",
       "3671    0.00001\n",
       "Name: Unnamed: 5, Length: 3672, dtype: float64"
      ]
     },
     "execution_count": 8,
     "metadata": {},
     "output_type": "execute_result"
    }
   ],
   "source": [
    "# Extract the amount of precipitation column from the dataframe\n",
    "df_am_of_perc = df_wo_nan_period_reset.iloc[:, 5] # m/h\n",
    "df_am_of_perc"
   ]
  },
  {
   "cell_type": "markdown",
   "metadata": {},
   "source": [
    "---\n",
    "$$\n",
    "Q_{ground} = \\lambda_{ground} A_{ground} \\frac{\\Delta T_g}{l}\n",
    "$$"
   ]
  },
  {
   "cell_type": "code",
   "execution_count": 9,
   "metadata": {},
   "outputs": [
    {
     "name": "stdout",
     "output_type": "stream",
     "text": [
      "The thermal heat energy from the ground is 1260.0 W.\n"
     ]
    }
   ],
   "source": [
    "lam = 1.0 # W/(mK); thermal conductivity of the ground\n",
    "A_ground = 210.0 # m^2; area of the ground\n",
    "T1 = 0.0 # °C\n",
    "T2 = 6.0 # °C\n",
    "dT = T2 - T1\n",
    "l = 1.0 # m; thickness of the ground\n",
    "Q_ground = lam * A_ground * dT/l\n",
    "print(f'The thermal heat energy from the ground is {Q_ground} W.')"
   ]
  },
  {
   "cell_type": "markdown",
   "metadata": {},
   "source": [
    "---\n",
    "$$Q_{melt} = \\frac{Q_{ground}}{L_f \\cdot \\rho_{snow}}$$"
   ]
  },
  {
   "cell_type": "code",
   "execution_count": 10,
   "metadata": {},
   "outputs": [
    {
     "name": "stdout",
     "output_type": "stream",
     "text": [
      "The rate of melted snow from ground melt is 9.1952e-06 m^3/s.\n"
     ]
    }
   ],
   "source": [
    "L_f = 333.4E03 # J/kg; latent heat of fusion\n",
    "rho_snow = 411.0 # kg/m^3; density of snow\n",
    "# The rate of melted snow from ground melt\n",
    "Q_melt = Q_ground/(L_f * rho_snow)\n",
    "print(f'The rate of melted snow from ground melt is {Q_melt:.4e} m^3/s.')"
   ]
  },
  {
   "cell_type": "markdown",
   "metadata": {},
   "source": [
    "---"
   ]
  },
  {
   "cell_type": "code",
   "execution_count": 11,
   "metadata": {},
   "outputs": [
    {
     "name": "stdout",
     "output_type": "stream",
     "text": [
      "The total volume of melted snow due to ground melt is 0.0331 m^3/h.\n"
     ]
    }
   ],
   "source": [
    "# Total volume of melted snow due to ground melt\n",
    "Q_melt_total = Q_melt * 3600 # m^3/h\n",
    "print(f'The total volume of melted snow due to ground melt is {Q_melt_total:.4f} m^3/h.')"
   ]
  },
  {
   "cell_type": "code",
   "execution_count": 12,
   "metadata": {},
   "outputs": [
    {
     "data": {
      "text/html": [
       "<div>\n",
       "<style scoped>\n",
       "    .dataframe tbody tr th:only-of-type {\n",
       "        vertical-align: middle;\n",
       "    }\n",
       "\n",
       "    .dataframe tbody tr th {\n",
       "        vertical-align: top;\n",
       "    }\n",
       "\n",
       "    .dataframe thead th {\n",
       "        text-align: right;\n",
       "    }\n",
       "</style>\n",
       "<table border=\"1\" class=\"dataframe\">\n",
       "  <thead>\n",
       "    <tr style=\"text-align: right;\">\n",
       "      <th></th>\n",
       "      <th>G(h)_W/m2</th>\n",
       "      <th>Gb(n)_W/m2</th>\n",
       "      <th>Gd(h)_W/m2</th>\n",
       "      <th>IR(h)_W/m2</th>\n",
       "      <th>RH_%</th>\n",
       "    </tr>\n",
       "  </thead>\n",
       "  <tbody>\n",
       "    <tr>\n",
       "      <th>0</th>\n",
       "      <td>0.00</td>\n",
       "      <td>0.0</td>\n",
       "      <td>0</td>\n",
       "      <td>306.98</td>\n",
       "      <td>72</td>\n",
       "    </tr>\n",
       "    <tr>\n",
       "      <th>1</th>\n",
       "      <td>0.00</td>\n",
       "      <td>0.0</td>\n",
       "      <td>0</td>\n",
       "      <td>311.56</td>\n",
       "      <td>75</td>\n",
       "    </tr>\n",
       "    <tr>\n",
       "      <th>2</th>\n",
       "      <td>0.00</td>\n",
       "      <td>0.0</td>\n",
       "      <td>0</td>\n",
       "      <td>316.14</td>\n",
       "      <td>65</td>\n",
       "    </tr>\n",
       "    <tr>\n",
       "      <th>3</th>\n",
       "      <td>0.00</td>\n",
       "      <td>0.0</td>\n",
       "      <td>0</td>\n",
       "      <td>320.72</td>\n",
       "      <td>77</td>\n",
       "    </tr>\n",
       "    <tr>\n",
       "      <th>4</th>\n",
       "      <td>34.09</td>\n",
       "      <td>0.0</td>\n",
       "      <td>0</td>\n",
       "      <td>325.31</td>\n",
       "      <td>78</td>\n",
       "    </tr>\n",
       "    <tr>\n",
       "      <th>...</th>\n",
       "      <td>...</td>\n",
       "      <td>...</td>\n",
       "      <td>...</td>\n",
       "      <td>...</td>\n",
       "      <td>...</td>\n",
       "    </tr>\n",
       "    <tr>\n",
       "      <th>3667</th>\n",
       "      <td>0.00</td>\n",
       "      <td>0.0</td>\n",
       "      <td>0</td>\n",
       "      <td>303.45</td>\n",
       "      <td>86</td>\n",
       "    </tr>\n",
       "    <tr>\n",
       "      <th>3668</th>\n",
       "      <td>0.00</td>\n",
       "      <td>0.0</td>\n",
       "      <td>0</td>\n",
       "      <td>308.59</td>\n",
       "      <td>88</td>\n",
       "    </tr>\n",
       "    <tr>\n",
       "      <th>3669</th>\n",
       "      <td>0.00</td>\n",
       "      <td>0.0</td>\n",
       "      <td>0</td>\n",
       "      <td>313.73</td>\n",
       "      <td>91</td>\n",
       "    </tr>\n",
       "    <tr>\n",
       "      <th>3670</th>\n",
       "      <td>0.00</td>\n",
       "      <td>0.0</td>\n",
       "      <td>0</td>\n",
       "      <td>318.88</td>\n",
       "      <td>91</td>\n",
       "    </tr>\n",
       "    <tr>\n",
       "      <th>3671</th>\n",
       "      <td>0.00</td>\n",
       "      <td>0.0</td>\n",
       "      <td>0</td>\n",
       "      <td>324.02</td>\n",
       "      <td>93</td>\n",
       "    </tr>\n",
       "  </tbody>\n",
       "</table>\n",
       "<p>3672 rows × 5 columns</p>\n",
       "</div>"
      ],
      "text/plain": [
       "      G(h)_W/m2  Gb(n)_W/m2  Gd(h)_W/m2  IR(h)_W/m2  RH_%\n",
       "0          0.00         0.0           0      306.98    72\n",
       "1          0.00         0.0           0      311.56    75\n",
       "2          0.00         0.0           0      316.14    65\n",
       "3          0.00         0.0           0      320.72    77\n",
       "4         34.09         0.0           0      325.31    78\n",
       "...         ...         ...         ...         ...   ...\n",
       "3667       0.00         0.0           0      303.45    86\n",
       "3668       0.00         0.0           0      308.59    88\n",
       "3669       0.00         0.0           0      313.73    91\n",
       "3670       0.00         0.0           0      318.88    91\n",
       "3671       0.00         0.0           0      324.02    93\n",
       "\n",
       "[3672 rows x 5 columns]"
      ]
     },
     "execution_count": 12,
     "metadata": {},
     "output_type": "execute_result"
    }
   ],
   "source": [
    "df2 = pd.read_parquet('SurfaceMeltRateDATA.parquet')\n",
    "df2"
   ]
  },
  {
   "cell_type": "markdown",
   "metadata": {},
   "source": [
    "Checking if the raw and snowmelt data are the same"
   ]
  },
  {
   "cell_type": "code",
   "execution_count": 13,
   "metadata": {},
   "outputs": [],
   "source": [
    "# Relative humidity (%)\n",
    "# Extract the columns to be compared\n",
    "df_RH_temp = df_wo_nan_period.iloc[:, 17].reset_index(drop=True)\n",
    "df2_RH = df2.iloc[:, 4].reset_index(drop=True)\n",
    "\n",
    "# Determine the length of the shorter column\n",
    "min_length = min(len(df_RH_temp), len(df2_RH))\n",
    "\n",
    "# Compare the columns up to the length of the shorter column\n",
    "not_equal_indices = df_RH_temp.iloc[:min_length] != df2_RH.iloc[:min_length]\n",
    "\n",
    "# Display the rows and the values at each row where they are not equal\n",
    "for index in not_equal_indices[not_equal_indices].index:\n",
    "    print(f\"Row {index}:\")\n",
    "    print(f\"df_RH value: {df_RH_temp.iloc[index]}\")\n",
    "    print(f\"df2 value: {df2_RH.iloc[index]}\")\n",
    "    print()"
   ]
  },
  {
   "cell_type": "code",
   "execution_count": 14,
   "metadata": {},
   "outputs": [
    {
     "name": "stdout",
     "output_type": "stream",
     "text": [
      "3672\n",
      "3672\n"
     ]
    }
   ],
   "source": [
    "print(len(df_RH_temp))\n",
    "print(len(df2_RH))"
   ]
  },
  {
   "cell_type": "code",
   "execution_count": 15,
   "metadata": {},
   "outputs": [
    {
     "data": {
      "text/plain": [
       "0       72\n",
       "1       75\n",
       "2       65\n",
       "3       77\n",
       "4       78\n",
       "        ..\n",
       "3667    86\n",
       "3668    88\n",
       "3669    91\n",
       "3670    91\n",
       "3671    93\n",
       "Name: relative_humidity_2m (%), Length: 3672, dtype: int64"
      ]
     },
     "execution_count": 15,
     "metadata": {},
     "output_type": "execute_result"
    }
   ],
   "source": [
    "df_RH_temp"
   ]
  },
  {
   "cell_type": "code",
   "execution_count": 16,
   "metadata": {},
   "outputs": [
    {
     "data": {
      "text/plain": [
       "0       72\n",
       "1       75\n",
       "2       65\n",
       "3       77\n",
       "4       78\n",
       "        ..\n",
       "3667    86\n",
       "3668    88\n",
       "3669    91\n",
       "3670    91\n",
       "3671    93\n",
       "Name: RH_%, Length: 3672, dtype: int64"
      ]
     },
     "execution_count": 16,
     "metadata": {},
     "output_type": "execute_result"
    }
   ],
   "source": [
    "df2_RH"
   ]
  },
  {
   "cell_type": "code",
   "execution_count": 17,
   "metadata": {},
   "outputs": [
    {
     "data": {
      "text/plain": [
       "0        0.00\n",
       "1        0.00\n",
       "2        0.00\n",
       "3        0.00\n",
       "4       34.09\n",
       "        ...  \n",
       "3667     0.00\n",
       "3668     0.00\n",
       "3669     0.00\n",
       "3670     0.00\n",
       "3671     0.00\n",
       "Name: ALLSKY_SFC_SW_DWN, Length: 3672, dtype: float64"
      ]
     },
     "execution_count": 17,
     "metadata": {},
     "output_type": "execute_result"
    }
   ],
   "source": [
    "# Globalr solar irradiance W/m2\n",
    "df_Gsi = df_wo_nan_period_reset['ALLSKY_SFC_SW_DWN']\n",
    "df_Gsi"
   ]
  },
  {
   "cell_type": "code",
   "execution_count": 18,
   "metadata": {},
   "outputs": [
    {
     "data": {
      "text/plain": [
       "0       -3.80000\n",
       "1       -3.90000\n",
       "2       -4.10000\n",
       "3       -4.20000\n",
       "4       -3.19859\n",
       "          ...   \n",
       "3667    13.50000\n",
       "3668    13.10000\n",
       "3669    12.90000\n",
       "3670    12.50000\n",
       "3671    11.80000\n",
       "Length: 3672, dtype: float64"
      ]
     },
     "execution_count": 18,
     "metadata": {},
     "output_type": "execute_result"
    }
   ],
   "source": [
    "# Heat transfer coefficient at the external surface\n",
    "h = 22.7 # W/(m^2K)\n",
    "# Solar light absorptivity\n",
    "alpha = 0.8\n",
    "# Correction factor for horizontal surface\n",
    "T_cor_fact = 4.0 # °C\n",
    "df_T_sol_air =  alpha * df_Gsi / h + df_air_temp - T_cor_fact\n",
    "df_T_sol_air"
   ]
  },
  {
   "cell_type": "markdown",
   "metadata": {},
   "source": [
    "---\n",
    "$$\n",
    "Q_{surface} = A_{surface} \\cdot \\frac{\\lambda_i}{d} \\cdot \\Delta T_s\n",
    "$$"
   ]
  },
  {
   "cell_type": "code",
   "execution_count": 19,
   "metadata": {},
   "outputs": [
    {
     "data": {
      "text/plain": [
       "0      -2553.600000\n",
       "1      -2620.800000\n",
       "2      -2755.200000\n",
       "3      -2822.400000\n",
       "4      -2149.452687\n",
       "           ...     \n",
       "3667    9072.000000\n",
       "3668    8803.200000\n",
       "3669    8668.800000\n",
       "3670    8400.000000\n",
       "3671    7929.600000\n",
       "Length: 3672, dtype: float64"
      ]
     },
     "execution_count": 19,
     "metadata": {},
     "output_type": "execute_result"
    }
   ],
   "source": [
    "# Insulation layer thickness\n",
    "d_ins = 0.1 # m\n",
    "# Thermal conductivity for the insulating material\n",
    "lam_i = 0.32 # W/(mK)\n",
    "# The surface area (m2) of the pile of snow\n",
    "A_surf = 210.0 # m^2\n",
    "# The rate of heat transfer from the snow pile to the air\n",
    "df_Q = A_surf * lam_i / d_ins * (df_T_sol_air - 0.0)    # W\n",
    "df_Q"
   ]
  },
  {
   "cell_type": "code",
   "execution_count": 20,
   "metadata": {},
   "outputs": [
    {
     "name": "stdout",
     "output_type": "stream",
     "text": [
      "0       -1.8636e-05\n",
      "1       -1.9126e-05\n",
      "2       -2.0107e-05\n",
      "3       -2.0597e-05\n",
      "4       -1.5686e-05\n",
      "           ...     \n",
      "3667     6.6206e-05\n",
      "3668     6.4244e-05\n",
      "3669     6.3263e-05\n",
      "3670     6.1302e-05\n",
      "3671     5.7869e-05\n",
      "Length: 3672, dtype: object\n"
     ]
    }
   ],
   "source": [
    "# The rate of melted snow from surface melt\n",
    "df_f_melt_surf = df_Q/(L_f * rho_snow) # m^3/s\n",
    "# Print the Series in scientific notation\n",
    "formatted_series = df_f_melt_surf.apply(lambda x: f'{x:.4e}')\n",
    "print(formatted_series)"
   ]
  },
  {
   "cell_type": "code",
   "execution_count": 21,
   "metadata": {},
   "outputs": [
    {
     "data": {
      "text/plain": [
       "0      -0.067088\n",
       "1      -0.068854\n",
       "2      -0.072385\n",
       "3      -0.074150\n",
       "4      -0.056471\n",
       "          ...   \n",
       "3667    0.238341\n",
       "3668    0.231279\n",
       "3669    0.227748\n",
       "3670    0.220686\n",
       "3671    0.208327\n",
       "Length: 3672, dtype: float64"
      ]
     },
     "execution_count": 21,
     "metadata": {},
     "output_type": "execute_result"
    }
   ],
   "source": [
    "# Hourly rate of melted snow from surface melt\n",
    "df_f_melt_surf_total = df_f_melt_surf * 3600 # m^3/h\n",
    "#df_f_melt_surf_total.apply(lambda x: f'{x:.4f}')\n",
    "df_f_melt_surf_total"
   ]
  },
  {
   "cell_type": "code",
   "execution_count": 22,
   "metadata": {},
   "outputs": [
    {
     "data": {
      "text/plain": [
       "0       0.000000\n",
       "1       0.001164\n",
       "2       0.000000\n",
       "3       0.000000\n",
       "4       0.000000\n",
       "          ...   \n",
       "3667    0.000000\n",
       "3668    0.000000\n",
       "3669    0.000000\n",
       "3670    0.192042\n",
       "3671    0.183894\n",
       "Length: 3672, dtype: float64"
      ]
     },
     "execution_count": 22,
     "metadata": {},
     "output_type": "execute_result"
    }
   ],
   "source": [
    "rho_water = 1000 # kg/m^3\n",
    "c_water = 4.19E03 # J/(kg * K)\n",
    "# The heat flux from rain\n",
    "\n",
    "# Initialize the Series with zeros\n",
    "df_q_rain = pd.Series(0.0, index=df_air_temp.index)  # Initialize with float zeros\n",
    "\n",
    "# Create a mask where air temperature is greater than 0\n",
    "positive_temp_mask = df_air_temp > 0\n",
    "\n",
    "# Calculate the heat flux where the air temperature is greater than 0\n",
    "df_q_rain[positive_temp_mask] = df_am_of_perc[positive_temp_mask] * rho_water * c_water * df_air_temp[positive_temp_mask] / 3600.0\n",
    "\n",
    "df_q_rain"
   ]
  },
  {
   "cell_type": "markdown",
   "metadata": {},
   "source": [
    "---\n",
    "$$\n",
    "v_{rain} = \\frac{P A_{surf} \\rho_{water} c_{water} T_{surroundings}}{L_{snow} \\rho_{snow}}\n",
    "$$\n",
    "\n",
    "$P$ - percipitation"
   ]
  },
  {
   "cell_type": "code",
   "execution_count": 23,
   "metadata": {},
   "outputs": [
    {
     "name": "stdout",
     "output_type": "stream",
     "text": [
      "0       0.00000\n",
      "1       0.00001\n",
      "2       0.00001\n",
      "3       0.00001\n",
      "4       0.00000\n",
      "         ...   \n",
      "3667    0.00000\n",
      "3668    0.00000\n",
      "3669    0.00000\n",
      "3670    0.00001\n",
      "3671    0.00001\n",
      "Name: Unnamed: 5, Length: 3672, dtype: float64\n",
      "210.0\n",
      "1000\n",
      "4190.0\n",
      "0        0.2\n",
      "1        0.1\n",
      "2       -0.1\n",
      "3       -0.2\n",
      "4       -0.4\n",
      "        ... \n",
      "3667    17.5\n",
      "3668    17.1\n",
      "3669    16.9\n",
      "3670    16.5\n",
      "3671    15.8\n",
      "Name: temperature_2m (°C), Length: 3672, dtype: float64\n",
      "333400.0\n",
      "411.0\n"
     ]
    }
   ],
   "source": [
    "print(df_am_of_perc)\n",
    "print(A_surf)\n",
    "print(rho_water)\n",
    "print(c_water)\n",
    "print(df_air_temp)\n",
    "print(L_f)\n",
    "print(rho_snow)"
   ]
  },
  {
   "cell_type": "code",
   "execution_count": 24,
   "metadata": {},
   "outputs": [
    {
     "data": {
      "text/plain": [
       "0        0.0000e+00\n",
       "1        6.4213e-06\n",
       "2       -6.4213e-06\n",
       "3       -1.2843e-05\n",
       "4       -0.0000e+00\n",
       "           ...     \n",
       "3667     0.0000e+00\n",
       "3668     0.0000e+00\n",
       "3669     0.0000e+00\n",
       "3670     1.0595e-03\n",
       "3671     1.0146e-03\n",
       "Length: 3672, dtype: object"
      ]
     },
     "execution_count": 24,
     "metadata": {},
     "output_type": "execute_result"
    }
   ],
   "source": [
    "df_v_rain = df_am_of_perc * A_surf * rho_water * c_water * df_air_temp / (L_f * rho_snow) # m^3/h\n",
    "df_v_rain.apply(lambda x: f'{x:.4e}')"
   ]
  },
  {
   "cell_type": "code",
   "execution_count": 25,
   "metadata": {},
   "outputs": [
    {
     "data": {
      "text/plain": [
       "0      -0.131302\n",
       "1      -0.134757\n",
       "2       0.000000\n",
       "3       0.000000\n",
       "4       0.000000\n",
       "          ...   \n",
       "3667    0.466467\n",
       "3668    0.452645\n",
       "3669    0.445735\n",
       "3670    0.431914\n",
       "3671    0.407726\n",
       "Length: 3672, dtype: float64"
      ]
     },
     "execution_count": 25,
     "metadata": {},
     "output_type": "execute_result"
    }
   ],
   "source": [
    "# Initialize the Series with zeros for  SMR\n",
    "df_SMR_temp = pd.Series(0.0, index=df_air_temp.index)  # Initialize with float zeros\n",
    "\n",
    "# Create a mask where air temperature is greater than 0\n",
    "smr_temp_mask = df_air_temp > 0.0\n",
    "\n",
    "# Calculate the surface melt rate where the temperature is greater than 0\n",
    "df_SMR_temp[smr_temp_mask] = df_f_melt_surf_total[smr_temp_mask] * rho_snow / A_surf\n",
    "\n",
    "df_SMR_temp\n"
   ]
  },
  {
   "cell_type": "code",
   "execution_count": 26,
   "metadata": {},
   "outputs": [
    {
     "data": {
      "text/plain": [
       "0       0.000000\n",
       "1       0.000013\n",
       "2      -0.000013\n",
       "3      -0.000025\n",
       "4      -0.000000\n",
       "          ...   \n",
       "3667    0.000000\n",
       "3668    0.000000\n",
       "3669    0.000000\n",
       "3670    0.002074\n",
       "3671    0.001986\n",
       "Length: 3672, dtype: float64"
      ]
     },
     "execution_count": 26,
     "metadata": {},
     "output_type": "execute_result"
    }
   ],
   "source": [
    "df_SMR_rain = df_v_rain * rho_snow / A_surf # m^3/h\n",
    "df_SMR_rain"
   ]
  },
  {
   "cell_type": "code",
   "execution_count": 27,
   "metadata": {},
   "outputs": [
    {
     "data": {
      "text/plain": [
       "0      -0.131302\n",
       "1      -0.134744\n",
       "2      -0.000013\n",
       "3      -0.000025\n",
       "4       0.000000\n",
       "          ...   \n",
       "3667    0.466467\n",
       "3668    0.452645\n",
       "3669    0.445735\n",
       "3670    0.433987\n",
       "3671    0.409712\n",
       "Length: 3672, dtype: float64"
      ]
     },
     "execution_count": 27,
     "metadata": {},
     "output_type": "execute_result"
    }
   ],
   "source": [
    "df_SMR_total = df_SMR_temp + df_SMR_rain\n",
    "df_SMR_total"
   ]
  },
  {
   "cell_type": "code",
   "execution_count": 28,
   "metadata": {},
   "outputs": [
    {
     "data": {
      "text/plain": [
       "0         -0.131302\n",
       "1         -0.266046\n",
       "2         -0.266059\n",
       "3         -0.266084\n",
       "4         -0.266084\n",
       "           ...     \n",
       "3667    2438.426695\n",
       "3668    2438.879340\n",
       "3669    2439.325075\n",
       "3670    2439.759062\n",
       "3671    2440.168774\n",
       "Length: 3672, dtype: float64"
      ]
     },
     "execution_count": 28,
     "metadata": {},
     "output_type": "execute_result"
    }
   ],
   "source": [
    "# Cumulative sum of the total surface melt rate\n",
    "df_SMR_total_rain_cum = df_SMR_total.cumsum()\n",
    "df_SMR_total_rain_cum"
   ]
  },
  {
   "cell_type": "markdown",
   "metadata": {},
   "source": [
    "---\n",
    "$$\n",
    "SMR = -0.09 + 0.00014 \\cdot P_{solar} + 0.0575 \\cdot T_{air} + 0.0012 \\cdot T_{air} \\cdot u_{air} - 0.18 \\cdot T_{air} \\cdot Z\n",
    "$$"
   ]
  },
  {
   "cell_type": "code",
   "execution_count": 29,
   "metadata": {},
   "outputs": [
    {
     "data": {
      "text/plain": [
       "0      -0.080660\n",
       "1      -0.085318\n",
       "2      -0.094730\n",
       "3      -0.099460\n",
       "4      -0.104387\n",
       "          ...   \n",
       "3667    0.685250\n",
       "3668    0.669582\n",
       "3669    0.654614\n",
       "3670    0.633030\n",
       "3671    0.587188\n",
       "Length: 3672, dtype: float64"
      ]
     },
     "execution_count": 29,
     "metadata": {},
     "output_type": "execute_result"
    }
   ],
   "source": [
    "df_P_solar = df_Gsi\n",
    "# Surface melt rate from solar radiation, air temperature, air velocity, and insulation thickness\n",
    "df_SMR_ins1 = -0.09 + 0.00014 * df_P_solar + 0.0575*df_air_temp + 0.0012*df_air_temp*df_air_vel - 0.18*df_air_temp*d_ins # kg/m2/h\n",
    "df_SMR_ins1"
   ]
  },
  {
   "cell_type": "code",
   "execution_count": 30,
   "metadata": {},
   "outputs": [],
   "source": [
    "def Psat_WV(T_K):\n",
    "    \"\"\"\n",
    "    Water vapour saturation pressure\n",
    "    W. Wagner and A. Pruß:\" The IAPWS Formulation 1995 for the\n",
    "    Thermodynamic Properties of Ordinary Water Substance for General and Scientific Use \",\n",
    "    Journal of Physical and Chemical Reference Data, June 2002 ,Volume 31, Issue 2, pp.\n",
    "    387535)\n",
    "\n",
    "    Returns Saturation vapor pressure (hPa)\n",
    "    \"\"\"\n",
    "    Tc = 647.096  # Critical temperature, K\n",
    "    Pc = 220640   # Critical pressure, hPa\n",
    "    \n",
    "    C1 = -7.85951783\n",
    "    C2 = 1.84408259\n",
    "    C3 = -11.7866497\n",
    "    C4 = 22.6807411\n",
    "    C5 = -15.9618719\n",
    "    C6 = 1.80122502\n",
    "    \n",
    "    teta = 1 - T_K / Tc\n",
    "    \n",
    "    x = Tc / T_K * (C1 * teta + C2 * teta ** 1.5 + C3 * teta ** 3 + C4 * teta ** 3.5 + C5 * teta ** 4 + C6 * teta ** 7.5)\n",
    "    \n",
    "    x = np.exp(x) * Pc\n",
    "    \n",
    "    return x\n",
    "\n",
    "# Example usage:\n",
    "#T_K = 300  # Example temperature in Kelvin\n",
    "#print(f\"Saturation vapor pressure at {T_K} K is {Psat_WV(T_K)} hPa\")"
   ]
  },
  {
   "cell_type": "code",
   "execution_count": 31,
   "metadata": {},
   "outputs": [
    {
     "data": {
      "text/plain": [
       "0       0.620152\n",
       "1       0.615668\n",
       "2       0.606786\n",
       "3       0.602388\n",
       "4       0.593677\n",
       "          ...   \n",
       "3667    2.000549\n",
       "3668    1.950561\n",
       "3669    1.925980\n",
       "3670    1.877632\n",
       "3671    1.795581\n",
       "Name: temperature_2m (°C), Length: 3672, dtype: float64"
      ]
     },
     "execution_count": 31,
     "metadata": {},
     "output_type": "execute_result"
    }
   ],
   "source": [
    "#%%timeit\n",
    "df_Psat = Psat_WV(df_air_temp + 273.15)/10 # hPa; 100/1000 to convert to hPa\n",
    "df_Psat"
   ]
  },
  {
   "cell_type": "code",
   "execution_count": 32,
   "metadata": {},
   "outputs": [
    {
     "data": {
      "text/plain": [
       "0       72\n",
       "1       75\n",
       "2       65\n",
       "3       77\n",
       "4       78\n",
       "        ..\n",
       "3667    86\n",
       "3668    88\n",
       "3669    91\n",
       "3670    91\n",
       "3671    93\n",
       "Name: relative_humidity_2m (%), Length: 3672, dtype: int64"
      ]
     },
     "execution_count": 32,
     "metadata": {},
     "output_type": "execute_result"
    }
   ],
   "source": [
    "df_RH_perc = df_wo_nan_period_reset.iloc[:, 17]\n",
    "df_RH_perc"
   ]
  },
  {
   "cell_type": "code",
   "execution_count": 33,
   "metadata": {},
   "outputs": [
    {
     "data": {
      "text/plain": [
       "0       0.620152\n",
       "1       0.615668\n",
       "2       0.606786\n",
       "3       0.602388\n",
       "4       0.593677\n",
       "          ...   \n",
       "3667    2.000549\n",
       "3668    1.950561\n",
       "3669    1.925980\n",
       "3670    1.877632\n",
       "3671    1.795581\n",
       "Name: temperature_2m (°C), Length: 3672, dtype: float64"
      ]
     },
     "execution_count": 33,
     "metadata": {},
     "output_type": "execute_result"
    }
   ],
   "source": [
    "df_Psat"
   ]
  },
  {
   "cell_type": "code",
   "execution_count": 34,
   "metadata": {},
   "outputs": [
    {
     "data": {
      "text/plain": [
       "0       0.446509\n",
       "1       0.461751\n",
       "2       0.394411\n",
       "3       0.463839\n",
       "4       0.463068\n",
       "          ...   \n",
       "3667    1.720472\n",
       "3668    1.716493\n",
       "3669    1.752642\n",
       "3670    1.708645\n",
       "3671    1.669890\n",
       "Length: 3672, dtype: float64"
      ]
     },
     "execution_count": 34,
     "metadata": {},
     "output_type": "execute_result"
    }
   ],
   "source": [
    "# Water steam pressure\n",
    "df_Pw = df_Psat*df_RH_perc/100.0 # kPa\n",
    "df_Pw"
   ]
  },
  {
   "cell_type": "code",
   "execution_count": 35,
   "metadata": {},
   "outputs": [
    {
     "data": {
      "text/plain": [
       "0        3.539389\n",
       "1        3.661546\n",
       "2        3.129852\n",
       "3        3.682145\n",
       "4        3.678720\n",
       "          ...    \n",
       "3667    12.826084\n",
       "3668    12.814059\n",
       "3669    13.092937\n",
       "3670    12.781892\n",
       "3671    12.522243\n",
       "Length: 3672, dtype: float64"
      ]
     },
     "execution_count": 35,
     "metadata": {},
     "output_type": "execute_result"
    }
   ],
   "source": [
    "# Absolute humidity\n",
    "df_w = 2.16679*df_Pw*1000/(273.15+df_air_temp) # kPa; 1000 to convert to kPa\n",
    "df_w"
   ]
  },
  {
   "cell_type": "code",
   "execution_count": 36,
   "metadata": {},
   "outputs": [],
   "source": [
    "def Psat_WV_vectorized(T_K):\n",
    "    \"\"\"\n",
    "    Water vapour saturation pressure\n",
    "    W. Wagner and A. Pruß:\" The IAPWS Formulation 1995 for the\n",
    "    Thermodynamic Properties of Ordinary Water Substance for General and Scientific Use \",\n",
    "    Journal of Physical and Chemical Reference Data, June 2002 ,Volume 31, Issue 2, pp.\n",
    "    387535)\n",
    "\n",
    "    Returns Saturation vapor pressure (hPa)\n",
    "    \"\"\"\n",
    "    Tc = 647.096  # Critical temperature, K\n",
    "    Pc = 220640   # Critical pressure, hPa\n",
    "    \n",
    "    C1 = -7.85951783\n",
    "    C2 = 1.84408259\n",
    "    C3 = -11.7866497\n",
    "    C4 = 22.6807411\n",
    "    C5 = -15.9618719\n",
    "    C6 = 1.80122502\n",
    "    \n",
    "    teta = 1 - T_K / Tc\n",
    "    \n",
    "    x = Tc / T_K * (C1 * teta + C2 * np.power(teta, 1.5) + C3 * np.power(teta, 3) + C4 * np.power(teta, 3.5) + C5 * np.power(teta, 4) + C6 * np.power(teta, 7.5))\n",
    "    \n",
    "    x = np.exp(x) * Pc\n",
    "    \n",
    "    return x\n",
    "\n",
    "# Example usage with a pandas DataFrame\n",
    "#data = {'Temperature_K': [300, 310, 320, 330, 340]}  # Example temperatures in Kelvin\n",
    "#df = pd.DataFrame(data)\n",
    "#df['Saturation_Vapor_Pressure_hPa'] = Psat_WV_vectorized(df['Temperature_K'])\n",
    "#print(df)"
   ]
  },
  {
   "cell_type": "code",
   "execution_count": 37,
   "metadata": {},
   "outputs": [
    {
     "data": {
      "text/plain": [
       "0        6.201519\n",
       "1        6.156680\n",
       "2        6.067863\n",
       "3        6.023882\n",
       "4        5.936768\n",
       "          ...    \n",
       "3667    20.005488\n",
       "3668    19.505606\n",
       "3669    19.259798\n",
       "3670    18.776320\n",
       "3671    17.955812\n",
       "Name: temperature_2m (°C), Length: 3672, dtype: float64"
      ]
     },
     "execution_count": 37,
     "metadata": {},
     "output_type": "execute_result"
    }
   ],
   "source": [
    "#%%timeit\n",
    "df_Psat_vec = Psat_WV_vectorized(df_air_temp + 273.15) # hPa\n",
    "df_Psat_vec"
   ]
  },
  {
   "cell_type": "markdown",
   "metadata": {},
   "source": [
    "---\n",
    "$$\n",
    "SMR = -0.97 - 0.097 \\cdot Z + 0.164 \\cdot u_{air} + 0.00175 \\cdot i_{light} + 0.102 \\cdot T_{air} + 0.192 \\cdot AH\n",
    "$$"
   ]
  },
  {
   "cell_type": "code",
   "execution_count": 38,
   "metadata": {},
   "outputs": [
    {
     "name": "stdout",
     "output_type": "stream",
     "text": [
      "0        3.539389\n",
      "1        3.661546\n",
      "2        3.129852\n",
      "3        3.682145\n",
      "4        3.678720\n",
      "          ...    \n",
      "3667    12.826084\n",
      "3668    12.814059\n",
      "3669    13.092937\n",
      "3670    12.781892\n",
      "3671    12.522243\n",
      "Length: 3672, dtype: float64\n"
     ]
    }
   ],
   "source": [
    "#print(d_ins)\n",
    "#print(df_air_temp)\n",
    "#print(df_Gsi)\n",
    "#print(df_air_temp)\n",
    "print(df_w)"
   ]
  },
  {
   "cell_type": "code",
   "execution_count": 39,
   "metadata": {},
   "outputs": [
    {
     "data": {
      "text/plain": [
       "1    6.1\n",
       "Name: Unnamed: 15, dtype: float64"
      ]
     },
     "execution_count": 39,
     "metadata": {},
     "output_type": "execute_result"
    }
   ],
   "source": [
    "df_air_vel[1:2]"
   ]
  },
  {
   "cell_type": "code",
   "execution_count": 40,
   "metadata": {},
   "outputs": [
    {
     "data": {
      "text/plain": [
       "-0.22638316800000002"
      ]
     },
     "execution_count": 40,
     "metadata": {},
     "output_type": "execute_result"
    }
   ],
   "source": [
    "# Some weird rounding error?\n",
    "#-0.97-0.097*(d_ins*100)+0.164*df_air_vel+0.00175*df_Gsi+0.102*(df_air_temp)+0.192*df_w\n",
    "-0.97 - 0.097*0.1*100 + 0.164*6.1 + 0.00175*0.0 + 0.102*0.1 + 0.192*3.661546\n"
   ]
  },
  {
   "cell_type": "code",
   "execution_count": 41,
   "metadata": {},
   "outputs": [
    {
     "data": {
      "text/plain": [
       "0      -0.256037\n",
       "1      -0.226383\n",
       "2      -0.283268\n",
       "3      -0.187428\n",
       "4      -0.066828\n",
       "          ...   \n",
       "3667    2.963608\n",
       "3668    2.936899\n",
       "3669    2.920844\n",
       "3670    2.787523\n",
       "3671    2.535071\n",
       "Length: 3672, dtype: float64"
      ]
     },
     "execution_count": 41,
     "metadata": {},
     "output_type": "execute_result"
    }
   ],
   "source": [
    "# Surface melt rate from insulation thickness, air velocity, light intensity, air temperature and air humidity\n",
    "df_SMR_ins2 = -0.97 - 0.097*(d_ins*100) + 0.164*df_air_vel + 0.00175*df_Gsi + 0.102*df_air_temp + 0.192*df_w # kg/m2/h\n",
    "df_SMR_ins2"
   ]
  },
  {
   "cell_type": "code",
   "execution_count": 42,
   "metadata": {},
   "outputs": [
    {
     "data": {
      "text/plain": [
       "0       0.000000\n",
       "1       0.000000\n",
       "2       0.000000\n",
       "3       0.000000\n",
       "4       0.000000\n",
       "          ...   \n",
       "3667    0.685250\n",
       "3668    0.669582\n",
       "3669    0.654614\n",
       "3670    0.633030\n",
       "3671    0.587188\n",
       "Length: 3672, dtype: float64"
      ]
     },
     "execution_count": 42,
     "metadata": {},
     "output_type": "execute_result"
    }
   ],
   "source": [
    "#%%timeit\n",
    "# Fastest method\n",
    "# Applying the condition using the np.where() function and storing the result in a new Series object\n",
    "df_SMR_ins1_cond = pd.Series(np.where((df_SMR_ins1 < 0) | (df_air_temp < 0), 0, df_SMR_ins1))\n",
    "df_SMR_ins1_cond"
   ]
  },
  {
   "cell_type": "code",
   "execution_count": 43,
   "metadata": {},
   "outputs": [],
   "source": [
    "#%%timeit\n",
    "## Applying the condition using mask\n",
    "#df_SMR_ins1_cond = df_SMR_ins1.mask((df_SMR_ins1 < 0) | (df_air_temp < 0), 0)\n",
    "#df_SMR_ins1_cond"
   ]
  },
  {
   "cell_type": "code",
   "execution_count": 44,
   "metadata": {},
   "outputs": [],
   "source": [
    "#%%timeit\n",
    "## Applying the condition\n",
    "#df_SMR_ins1_cond = df_SMR_ins1.where((df_SMR_ins1 >= 0) & (df_air_temp >= 0), 0)\n",
    "#df_SMR_ins1_cond"
   ]
  },
  {
   "cell_type": "code",
   "execution_count": 45,
   "metadata": {},
   "outputs": [
    {
     "data": {
      "text/plain": [
       "0      -0.256037\n",
       "1      -0.226383\n",
       "2      -0.283268\n",
       "3      -0.187428\n",
       "4      -0.066828\n",
       "          ...   \n",
       "3667    2.963608\n",
       "3668    2.936899\n",
       "3669    2.920844\n",
       "3670    2.787523\n",
       "3671    2.535071\n",
       "Length: 3672, dtype: float64"
      ]
     },
     "execution_count": 45,
     "metadata": {},
     "output_type": "execute_result"
    }
   ],
   "source": [
    "df_SMR_ins2"
   ]
  },
  {
   "cell_type": "code",
   "execution_count": 46,
   "metadata": {},
   "outputs": [
    {
     "data": {
      "text/plain": [
       "0       0.000000\n",
       "1       0.000000\n",
       "2       0.000000\n",
       "3       0.000000\n",
       "4       0.000000\n",
       "          ...   \n",
       "3667    2.963608\n",
       "3668    2.936899\n",
       "3669    2.920844\n",
       "3670    2.787523\n",
       "3671    2.535071\n",
       "Length: 3672, dtype: float64"
      ]
     },
     "execution_count": 46,
     "metadata": {},
     "output_type": "execute_result"
    }
   ],
   "source": [
    "# Applying the condition using the np.where() function and storing the result in a new Series object\n",
    "df_SMR_ins2_cond = pd.Series(np.where((df_SMR_ins2 < 0) | (df_air_temp < 0), 0, df_SMR_ins2))\n",
    "df_SMR_ins2_cond"
   ]
  },
  {
   "cell_type": "code",
   "execution_count": 47,
   "metadata": {},
   "outputs": [
    {
     "data": {
      "text/plain": [
       "0          0.000000\n",
       "1          0.000000\n",
       "2          0.000000\n",
       "3          0.000000\n",
       "4          0.000000\n",
       "           ...     \n",
       "3667    2213.013906\n",
       "3668    2213.683488\n",
       "3669    2214.338102\n",
       "3670    2214.971132\n",
       "3671    2215.558320\n",
       "Length: 3672, dtype: float64"
      ]
     },
     "metadata": {},
     "output_type": "display_data"
    },
    {
     "data": {
      "text/plain": [
       "0          0.000000\n",
       "1          0.000000\n",
       "2          0.000000\n",
       "3          0.000000\n",
       "4          0.000000\n",
       "           ...     \n",
       "3667    8181.811551\n",
       "3668    8184.748450\n",
       "3669    8187.669294\n",
       "3670    8190.456817\n",
       "3671    8192.991888\n",
       "Length: 3672, dtype: float64"
      ]
     },
     "metadata": {},
     "output_type": "display_data"
    }
   ],
   "source": [
    "df_SMR_ins1_cond_cum = df_SMR_ins1_cond.cumsum()\n",
    "df_SMR_ins2_cond_cumsum = df_SMR_ins2_cond.cumsum()\n",
    "display(df_SMR_ins1_cond_cum)\n",
    "display(df_SMR_ins2_cond_cumsum)"
   ]
  },
  {
   "cell_type": "code",
   "execution_count": 48,
   "metadata": {},
   "outputs": [
    {
     "data": {
      "text/html": [
       "<div>\n",
       "<style scoped>\n",
       "    .dataframe tbody tr th:only-of-type {\n",
       "        vertical-align: middle;\n",
       "    }\n",
       "\n",
       "    .dataframe tbody tr th {\n",
       "        vertical-align: top;\n",
       "    }\n",
       "\n",
       "    .dataframe thead th {\n",
       "        text-align: right;\n",
       "    }\n",
       "</style>\n",
       "<table border=\"1\" class=\"dataframe\">\n",
       "  <thead>\n",
       "    <tr style=\"text-align: right;\">\n",
       "      <th></th>\n",
       "      <th>Tsi_C</th>\n",
       "      <th>Tso_C</th>\n",
       "    </tr>\n",
       "  </thead>\n",
       "  <tbody>\n",
       "    <tr>\n",
       "      <th>0</th>\n",
       "      <td>-1.211547e-35</td>\n",
       "      <td>-0.422381</td>\n",
       "    </tr>\n",
       "    <tr>\n",
       "      <th>1</th>\n",
       "      <td>-1.349124e-29</td>\n",
       "      <td>-0.715959</td>\n",
       "    </tr>\n",
       "    <tr>\n",
       "      <th>2</th>\n",
       "      <td>-4.325687e-26</td>\n",
       "      <td>-0.960885</td>\n",
       "    </tr>\n",
       "    <tr>\n",
       "      <th>3</th>\n",
       "      <td>-1.230188e-23</td>\n",
       "      <td>-1.149471</td>\n",
       "    </tr>\n",
       "    <tr>\n",
       "      <th>4</th>\n",
       "      <td>-9.227676e-22</td>\n",
       "      <td>-1.188722</td>\n",
       "    </tr>\n",
       "    <tr>\n",
       "      <th>...</th>\n",
       "      <td>...</td>\n",
       "      <td>...</td>\n",
       "    </tr>\n",
       "    <tr>\n",
       "      <th>3667</th>\n",
       "      <td>6.614035e-01</td>\n",
       "      <td>15.125034</td>\n",
       "    </tr>\n",
       "    <tr>\n",
       "      <th>3668</th>\n",
       "      <td>6.612097e-01</td>\n",
       "      <td>14.919390</td>\n",
       "    </tr>\n",
       "    <tr>\n",
       "      <th>3669</th>\n",
       "      <td>6.610148e-01</td>\n",
       "      <td>14.754398</td>\n",
       "    </tr>\n",
       "    <tr>\n",
       "      <th>3670</th>\n",
       "      <td>6.608188e-01</td>\n",
       "      <td>14.597013</td>\n",
       "    </tr>\n",
       "    <tr>\n",
       "      <th>3671</th>\n",
       "      <td>6.606216e-01</td>\n",
       "      <td>14.448749</td>\n",
       "    </tr>\n",
       "  </tbody>\n",
       "</table>\n",
       "<p>3672 rows × 2 columns</p>\n",
       "</div>"
      ],
      "text/plain": [
       "             Tsi_C      Tso_C\n",
       "0    -1.211547e-35  -0.422381\n",
       "1    -1.349124e-29  -0.715959\n",
       "2    -4.325687e-26  -0.960885\n",
       "3    -1.230188e-23  -1.149471\n",
       "4    -9.227676e-22  -1.188722\n",
       "...            ...        ...\n",
       "3667  6.614035e-01  15.125034\n",
       "3668  6.612097e-01  14.919390\n",
       "3669  6.610148e-01  14.754398\n",
       "3670  6.608188e-01  14.597013\n",
       "3671  6.606216e-01  14.448749\n",
       "\n",
       "[3672 rows x 2 columns]"
      ]
     },
     "execution_count": 48,
     "metadata": {},
     "output_type": "execute_result"
    }
   ],
   "source": [
    "df3 = pd.read_parquet('TsiTsoDATA.parquet')\n",
    "df3"
   ]
  },
  {
   "cell_type": "code",
   "execution_count": 49,
   "metadata": {},
   "outputs": [
    {
     "data": {
      "text/plain": [
       "0      -1.211547e-35\n",
       "1      -1.349124e-29\n",
       "2      -4.325687e-26\n",
       "3      -1.230188e-23\n",
       "4      -9.227676e-22\n",
       "            ...     \n",
       "3667    6.614035e-01\n",
       "3668    6.612097e-01\n",
       "3669    6.610148e-01\n",
       "3670    6.608188e-01\n",
       "3671    6.606216e-01\n",
       "Name: Tsi_C, Length: 3672, dtype: float64"
      ]
     },
     "execution_count": 49,
     "metadata": {},
     "output_type": "execute_result"
    }
   ],
   "source": [
    "df_Tsi = df3['Tsi_C']\n",
    "df_Tsi"
   ]
  },
  {
   "cell_type": "code",
   "execution_count": 50,
   "metadata": {},
   "outputs": [
    {
     "data": {
      "text/plain": [
       "0       -0.422381\n",
       "1       -0.715959\n",
       "2       -0.960885\n",
       "3       -1.149471\n",
       "4       -1.188722\n",
       "          ...    \n",
       "3667    15.125034\n",
       "3668    14.919390\n",
       "3669    14.754398\n",
       "3670    14.597013\n",
       "3671    14.448749\n",
       "Name: Tso_C, Length: 3672, dtype: float64"
      ]
     },
     "execution_count": 50,
     "metadata": {},
     "output_type": "execute_result"
    }
   ],
   "source": [
    "df_Tso = df3['Tso_C']\n",
    "df_Tso"
   ]
  },
  {
   "cell_type": "code",
   "execution_count": 51,
   "metadata": {},
   "outputs": [
    {
     "data": {
      "text/plain": [
       "0       6.0\n",
       "1       6.1\n",
       "2       6.5\n",
       "3       6.5\n",
       "4       7.0\n",
       "       ... \n",
       "3667    4.0\n",
       "3668    4.1\n",
       "3669    3.8\n",
       "3670    3.6\n",
       "3671    2.8\n",
       "Name: Unnamed: 15, Length: 3672, dtype: float64"
      ]
     },
     "execution_count": 51,
     "metadata": {},
     "output_type": "execute_result"
    }
   ],
   "source": [
    "df_air_vel"
   ]
  },
  {
   "cell_type": "code",
   "execution_count": 52,
   "metadata": {},
   "outputs": [
    {
     "data": {
      "text/plain": [
       "30.408286498835363"
      ]
     },
     "execution_count": 52,
     "metadata": {},
     "output_type": "execute_result"
    }
   ],
   "source": [
    "# Some floating point arithmetic hooliganism happening again\n",
    "7.41 * (6.11111111111**0.78)"
   ]
  },
  {
   "cell_type": "code",
   "execution_count": 53,
   "metadata": {},
   "outputs": [
    {
     "data": {
      "text/plain": [
       "0       29.976173\n",
       "1       30.365153\n",
       "2       31.907342\n",
       "3       31.907342\n",
       "4       33.806069\n",
       "          ...    \n",
       "3667    22.000000\n",
       "3668    22.400000\n",
       "3669    21.200000\n",
       "3670    20.400000\n",
       "3671    17.200000\n",
       "Length: 3672, dtype: float64"
      ]
     },
     "execution_count": 53,
     "metadata": {},
     "output_type": "execute_result"
    }
   ],
   "source": [
    "# Air velocity with conditions\n",
    "df_ho = pd.Series(\n",
    "    np.where(\n",
    "        df_air_vel <= 5.0,\n",
    "        6.0 + 4.0*df_air_vel,\n",
    "        7.41 * (df_air_vel**0.78)\n",
    "    )\n",
    ")\n",
    "\n",
    "df_ho"
   ]
  },
  {
   "cell_type": "code",
   "execution_count": 54,
   "metadata": {},
   "outputs": [
    {
     "data": {
      "text/plain": [
       "0      -1.208518e-33\n",
       "1      -1.345751e-27\n",
       "2      -4.314872e-24\n",
       "3      -1.227113e-21\n",
       "4      -9.204607e-20\n",
       "            ...     \n",
       "3667    6.597500e+01\n",
       "3668    6.595567e+01\n",
       "3669    6.593623e+01\n",
       "3670    6.591668e+01\n",
       "3671    6.589701e+01\n",
       "Name: Tsi_C, Length: 3672, dtype: float64"
      ]
     },
     "execution_count": 54,
     "metadata": {},
     "output_type": "execute_result"
    }
   ],
   "source": [
    "# Heat transfer coefficient at the internal surface:\n",
    "h_i = 99.75 # W/m^2*K\n",
    "# Heat flux in\n",
    "df_qi = (df_Tsi - 0.0)* h_i # W/m^2\n",
    "df_qi"
   ]
  },
  {
   "cell_type": "code",
   "execution_count": 55,
   "metadata": {},
   "outputs": [
    {
     "data": {
      "text/plain": [
       "0       -3.80000\n",
       "1       -3.90000\n",
       "2       -4.10000\n",
       "3       -4.20000\n",
       "4       -3.19859\n",
       "          ...   \n",
       "3667    13.50000\n",
       "3668    13.10000\n",
       "3669    12.90000\n",
       "3670    12.50000\n",
       "3671    11.80000\n",
       "Length: 3672, dtype: float64"
      ]
     },
     "execution_count": 55,
     "metadata": {},
     "output_type": "execute_result"
    }
   ],
   "source": [
    "df_T_sol_air"
   ]
  },
  {
   "cell_type": "code",
   "execution_count": 56,
   "metadata": {},
   "outputs": [
    {
     "name": "stdout",
     "output_type": "stream",
     "text": [
      "0      -3.377619\n",
      "1      -3.184041\n",
      "2      -3.139115\n",
      "3      -3.050529\n",
      "4      -2.009868\n",
      "          ...   \n",
      "3667   -1.625034\n",
      "3668   -1.819390\n",
      "3669   -1.854398\n",
      "3670   -2.097013\n",
      "3671   -2.648749\n",
      "Length: 3672, dtype: float64\n"
     ]
    }
   ],
   "source": [
    "# Reset the indices and ensure they start from the same number\n",
    "df_T_sol_air = df_T_sol_air.reset_index(drop=True)\n",
    "df_Tso = df_Tso.reset_index(drop=True)\n",
    "\n",
    "# Perform the subtraction\n",
    "result = df_T_sol_air - df_Tso\n",
    "\n",
    "# Display the result\n",
    "print(result)\n"
   ]
  },
  {
   "cell_type": "code",
   "execution_count": 57,
   "metadata": {},
   "outputs": [
    {
     "data": {
      "text/plain": [
       "0      -101.248090\n",
       "1       -96.683900\n",
       "2      -100.160818\n",
       "3       -97.334272\n",
       "4       -67.945734\n",
       "           ...    \n",
       "3667    -35.750747\n",
       "3668    -40.754341\n",
       "3669    -39.313228\n",
       "3670    -42.779074\n",
       "3671    -45.558474\n",
       "Length: 3672, dtype: float64"
      ]
     },
     "execution_count": 57,
     "metadata": {},
     "output_type": "execute_result"
    }
   ],
   "source": [
    "# Heat flux out\n",
    "#df_T_sol_air - df_Tso will fail bc they have different indecies\n",
    "df_qo = (df_T_sol_air - df_Tso) * df_ho # W/m^2\n",
    "df_qo"
   ]
  },
  {
   "cell_type": "markdown",
   "metadata": {},
   "source": [
    "This calculation represents the rate at which the heat flux can cause a phase change per unit length of the material. Specifically, it tells us how quickly a phase boundary (e.g., melting front) moves through the material as heat is applied. This is essentially the velocity at which the phase change front moves through the material given the supplied heat flux.\n",
    "\n",
    "So, while the units are in meters per second, the context here is the movement rate of the phase change front within the material due to the applied heat flux."
   ]
  },
  {
   "cell_type": "code",
   "execution_count": 58,
   "metadata": {},
   "outputs": [
    {
     "data": {
      "text/plain": [
       "0      -8.819535e-42\n",
       "1      -9.821034e-36\n",
       "2      -3.148912e-32\n",
       "3      -8.955238e-30\n",
       "4      -6.717348e-28\n",
       "            ...     \n",
       "3667    4.814730e-07\n",
       "3668    4.813320e-07\n",
       "3669    4.811901e-07\n",
       "3670    4.810474e-07\n",
       "3671    4.809039e-07\n",
       "Name: Tsi_C, Length: 3672, dtype: float64"
      ]
     },
     "execution_count": 58,
     "metadata": {},
     "output_type": "execute_result"
    }
   ],
   "source": [
    "df_v_pc = df_qi/(L_f * rho_snow) # m^3/(m^2*s)\n",
    "df_v_pc"
   ]
  },
  {
   "cell_type": "code",
   "execution_count": 59,
   "metadata": {},
   "outputs": [
    {
     "data": {
      "text/plain": [
       "0      -3.175032e-38\n",
       "1      -3.535572e-32\n",
       "2      -1.133608e-28\n",
       "3      -3.223886e-26\n",
       "4      -2.418245e-24\n",
       "            ...     \n",
       "3667    1.733303e-03\n",
       "3668    1.732795e-03\n",
       "3669    1.732284e-03\n",
       "3670    1.731771e-03\n",
       "3671    1.731254e-03\n",
       "Name: Tsi_C, Length: 3672, dtype: float64"
      ]
     },
     "execution_count": 59,
     "metadata": {},
     "output_type": "execute_result"
    }
   ],
   "source": [
    "df_v_pc_hourly = df_v_pc * 3600\n",
    "df_v_pc_hourly"
   ]
  },
  {
   "cell_type": "code",
   "execution_count": 60,
   "metadata": {},
   "outputs": [
    {
     "data": {
      "text/plain": [
       "0      -1.304938e-35\n",
       "1      -1.453120e-29\n",
       "2       0.000000e+00\n",
       "3       0.000000e+00\n",
       "4       0.000000e+00\n",
       "            ...     \n",
       "3667    7.123875e-01\n",
       "3668    7.121788e-01\n",
       "3669    7.119689e-01\n",
       "3670    7.117578e-01\n",
       "3671    7.115454e-01\n",
       "Length: 3672, dtype: float64"
      ]
     },
     "execution_count": 60,
     "metadata": {},
     "output_type": "execute_result"
    }
   ],
   "source": [
    "# Hourly melt rate from solar heat flux\n",
    "df_hfmr = pd.Series(np.where(df_air_temp > 0,  df_v_pc_hourly * rho_snow, 0.0))\n",
    "df_hfmr"
   ]
  },
  {
   "cell_type": "code",
   "execution_count": 61,
   "metadata": {},
   "outputs": [
    {
     "data": {
      "text/plain": [
       "0      -1.304938e-35\n",
       "1      -1.453121e-29\n",
       "2      -1.453121e-29\n",
       "3      -1.453121e-29\n",
       "4      -1.453121e-29\n",
       "            ...     \n",
       "3667    1.920810e+03\n",
       "3668    1.921522e+03\n",
       "3669    1.922234e+03\n",
       "3670    1.922946e+03\n",
       "3671    1.923657e+03\n",
       "Length: 3672, dtype: float64"
      ]
     },
     "execution_count": 61,
     "metadata": {},
     "output_type": "execute_result"
    }
   ],
   "source": [
    "df_hfmr_cum = df_hfmr.cumsum()\n",
    "df_hfmr_cum"
   ]
  },
  {
   "cell_type": "code",
   "execution_count": 62,
   "metadata": {},
   "outputs": [
    {
     "data": {
      "text/plain": [
       "0      -101.248090\n",
       "1       -96.682736\n",
       "2      -100.160818\n",
       "3       -97.334272\n",
       "4       -67.945734\n",
       "           ...    \n",
       "3667    -35.750747\n",
       "3668    -40.754341\n",
       "3669    -39.313228\n",
       "3670    -42.587033\n",
       "3671    -45.374580\n",
       "Length: 3672, dtype: float64"
      ]
     },
     "execution_count": 62,
     "metadata": {},
     "output_type": "execute_result"
    }
   ],
   "source": [
    "df_rain_solar_hf = df_q_rain + df_qo    # W/m^2\n",
    "df_rain_solar_hf"
   ]
  },
  {
   "cell_type": "code",
   "execution_count": 63,
   "metadata": {},
   "outputs": [
    {
     "data": {
      "text/plain": [
       "0       29.976173\n",
       "1       30.364788\n",
       "2       31.907342\n",
       "3       31.907342\n",
       "4       33.806069\n",
       "          ...    \n",
       "3667    22.000000\n",
       "3668    22.400000\n",
       "3669    21.200000\n",
       "3670    20.308421\n",
       "3671    17.130573\n",
       "Length: 3672, dtype: float64"
      ]
     },
     "execution_count": 63,
     "metadata": {},
     "output_type": "execute_result"
    }
   ],
   "source": [
    "df_wind_solar_rain = df_rain_solar_hf/ (df_T_sol_air - df_Tso)\n",
    "df_wind_solar_rain"
   ]
  },
  {
   "cell_type": "code",
   "execution_count": 64,
   "metadata": {},
   "outputs": [
    {
     "data": {
      "image/png": "[encoded data removed]",
      "text/plain": [
       "<Figure size 800x600 with 1 Axes>"
      ]
     },
     "metadata": {},
     "output_type": "display_data"
    }
   ],
   "source": [
    "# Generate the scatter plot\n",
    "plt.figure(figsize=(8, 6))\n",
    "\n",
    "plt.scatter(df_air_temp, df_SMR_ins2_cond, label='Surface 2')\n",
    "plt.scatter(df_air_temp, df_SMR_total, label='Total Rain')\n",
    "plt.scatter(df_air_temp, df_hfmr, label='Total Solar')\n",
    "plt.scatter(df_air_temp, df_SMR_ins1_cond, label='Surface 1')\n",
    "\n",
    "plt.title('Scatter Plot from Two DataFrames')\n",
    "plt.xlabel('Air temperature C')\n",
    "plt.ylabel('Melt Rate')\n",
    "plt.legend()\n",
    "plt.grid()\n",
    "plt.show()"
   ]
  },
  {
   "cell_type": "markdown",
   "metadata": {},
   "source": [
    "If this step is not done, the upcoming plot will take a lot of time to render.\n",
    "\n",
    "With this we convert time from \"object\" type to \"float64\", which removes the bottleneck."
   ]
  },
  {
   "cell_type": "code",
   "execution_count": 65,
   "metadata": {},
   "outputs": [
    {
     "data": {
      "text/plain": [
       "0       1.680307e+09\n",
       "1       1.680311e+09\n",
       "2       1.680314e+09\n",
       "3       1.680318e+09\n",
       "4       1.680322e+09\n",
       "            ...     \n",
       "3667    1.693508e+09\n",
       "3668    1.693512e+09\n",
       "3669    1.693516e+09\n",
       "3670    1.693519e+09\n",
       "3671    1.693523e+09\n",
       "Name: time, Length: 3672, dtype: float64"
      ]
     },
     "execution_count": 65,
     "metadata": {},
     "output_type": "execute_result"
    }
   ],
   "source": [
    "# Convert the 'time' column to datetime objects\n",
    "#df_wo_nan_period_reset['time'] = \n",
    "\n",
    "# Convert the datetime objects to Unix timestamps (in seconds) using astype\n",
    "df_time = pd.to_datetime(df_wo_nan_period_reset['time']).astype('int64') / 1e9\n",
    "\n",
    "# Display the resulting float64 time column\n",
    "df_time"
   ]
  },
  {
   "cell_type": "code",
   "execution_count": 66,
   "metadata": {},
   "outputs": [
    {
     "data": {
      "image/png": "[encoded data removed]",
      "text/plain": [
       "<Figure size 800x600 with 2 Axes>"
      ]
     },
     "metadata": {},
     "output_type": "display_data"
    }
   ],
   "source": [
    "# Generate the scatter plot\n",
    "fig, ax1 = plt.subplots(figsize=(8, 6))\n",
    "\n",
    "# Plot df_T_sol_air and df_Tso on the primary y-axis\n",
    "ax1.plot(df_time, df_T_sol_air, label='Solar - Air (Left Axis)')\n",
    "ax1.plot(df_time, df_Tso, color = 'red', label='Outer Surface Temp (Left Axis)')\n",
    "\n",
    "ax1.set_xlabel('Time')\n",
    "ax1.set_ylabel('Temperature C')\n",
    "ax1.set_title('Change of temperature over time')\n",
    "ax1.legend(loc='upper left')\n",
    "\n",
    "# Create a secondary y-axis and plot df_Tsi on it\n",
    "ax2 = ax1.twinx()\n",
    "ax2.plot(df_time, df_Tsi, label='Inner Surface Temp (Right Axis)', color='orange')\n",
    "\n",
    "# Set the y-axis range for the secondary y-axis\n",
    "ax2.set_ylim(-0.1, 0.8)\n",
    "ax2.set_ylabel('Solar In (Temperature)')\n",
    "ax2.legend(loc='lower right')\n",
    "plt.show()"
   ]
  },
  {
   "cell_type": "code",
   "execution_count": 67,
   "metadata": {},
   "outputs": [
    {
     "data": {
      "image/png": "[encoded data removed]",
      "text/plain": [
       "<Figure size 800x600 with 1 Axes>"
      ]
     },
     "metadata": {},
     "output_type": "display_data"
    }
   ],
   "source": [
    "# Generate the scatter plot\n",
    "plt.figure(figsize=(8, 6))\n",
    "\n",
    "plt.plot(df_time, df_SMR_ins1_cond_cum, label='Empirical 1')\n",
    "plt.plot(df_time, df_SMR_ins2_cond_cumsum, label='Empirical 2')\n",
    "plt.plot(df_time, df_SMR_total_rain_cum, label='Total Rain')\n",
    "plt.plot(df_time, df_hfmr_cum, label='Total Solar')\n",
    "\n",
    "plt.title('Cumulative melt rate over time')\n",
    "plt.xlabel('Time')\n",
    "plt.ylabel('Surface Melt Rate, kg/m^2')\n",
    "plt.legend()\n",
    "plt.grid()\n",
    "plt.show()"
   ]
  },
  {
   "cell_type": "code",
   "execution_count": 68,
   "metadata": {},
   "outputs": [
    {
     "name": "stdout",
     "output_type": "stream",
     "text": [
      "1632    2023-06-08T00:00\n",
      "1633    2023-06-08T01:00\n",
      "1634    2023-06-08T02:00\n",
      "1635    2023-06-08T03:00\n",
      "1636    2023-06-08T04:00\n",
      "              ...       \n",
      "1748    2023-06-12T20:00\n",
      "1749    2023-06-12T21:00\n",
      "1750    2023-06-12T22:00\n",
      "1751    2023-06-12T23:00\n",
      "1752    2023-06-13T00:00\n",
      "Name: time, Length: 121, dtype: object\n",
      "Index([1632, 1633, 1634, 1635, 1636, 1637, 1638, 1639, 1640, 1641,\n",
      "       ...\n",
      "       1743, 1744, 1745, 1746, 1747, 1748, 1749, 1750, 1751, 1752],\n",
      "      dtype='int64', length=121)\n"
     ]
    }
   ],
   "source": [
    "# Define the time frame\n",
    "start_time = '2023-06-08T00:00'\n",
    "end_time = '2023-06-13T00:00'\n",
    "\n",
    "# Filter the DataFrame\n",
    "time_mask = (df_wo_nan_period_reset['time'] >= start_time) & (df_wo_nan_period_reset['time'] <= end_time)\n",
    "filtered_df = df_wo_nan_period_reset['time'].loc[time_mask]\n",
    "\n",
    "# Get the indices\n",
    "indices = filtered_df.index\n",
    "\n",
    "# Display the filtered DataFrame and indices\n",
    "print(filtered_df)\n",
    "print(indices)"
   ]
  },
  {
   "cell_type": "code",
   "execution_count": 69,
   "metadata": {},
   "outputs": [
    {
     "data": {
      "text/plain": [
       "1632    1.686182e+09\n",
       "1633    1.686186e+09\n",
       "1634    1.686190e+09\n",
       "1635    1.686193e+09\n",
       "1636    1.686197e+09\n",
       "            ...     \n",
       "1748    1.686600e+09\n",
       "1749    1.686604e+09\n",
       "1750    1.686607e+09\n",
       "1751    1.686611e+09\n",
       "1752    1.686614e+09\n",
       "Name: time, Length: 121, dtype: float64"
      ]
     },
     "execution_count": 69,
     "metadata": {},
     "output_type": "execute_result"
    }
   ],
   "source": [
    "df_time.loc[time_mask]"
   ]
  },
  {
   "cell_type": "code",
   "execution_count": 70,
   "metadata": {},
   "outputs": [
    {
     "data": {
      "image/png": "[encoded data removed]",
      "text/plain": [
       "<Figure size 800x600 with 2 Axes>"
      ]
     },
     "metadata": {},
     "output_type": "display_data"
    }
   ],
   "source": [
    "# Generate the scatter plot\n",
    "fig, ax1 = plt.subplots(figsize=(8, 6))\n",
    "\n",
    "# Plot df_T_sol_air and df_Tso on the primary y-axis\n",
    "ax1.plot(df_time.loc[time_mask], df_T_sol_air.loc[time_mask], label='Solar - Air (Left Axis)')\n",
    "ax1.plot(df_time.loc[time_mask], df_air_temp.loc[time_mask], color = 'red', label='Outdoor Temp (Left Axis)')\n",
    "\n",
    "ax1.set_ylim(0.0, 60)\n",
    "ax1.set_xlabel('Time')\n",
    "ax1.set_ylabel('Temperature C')\n",
    "ax1.set_title('Change of temperature over time')\n",
    "ax1.legend(loc='upper left')\n",
    "\n",
    "# Create a secondary y-axis and plot df_Tsi on it\n",
    "ax2 = ax1.twinx()\n",
    "ax2.plot(df_time.loc[time_mask], df_Gsi.loc[time_mask], label='Global Solar Irradiance (Right Axis)', color='orange')\n",
    "\n",
    "# Set the y-axis range for the secondary y-axis\n",
    "ax2.set_ylim(0.0, 900)\n",
    "ax2.set_ylabel('Heat flux, W/m^2')\n",
    "ax2.legend(loc='lower right')\n",
    "plt.grid()\n",
    "plt.show()"
   ]
  },
  {
   "cell_type": "code",
   "execution_count": 71,
   "metadata": {},
   "outputs": [
    {
     "data": {
      "image/png": "[encoded data removed]",
      "text/plain": [
       "<Figure size 800x600 with 1 Axes>"
      ]
     },
     "metadata": {},
     "output_type": "display_data"
    }
   ],
   "source": [
    "fig, ax = plt.subplots(figsize = (8, 6) )\n",
    "\n",
    "ax.plot(df_time, df_SMR_total_rain_cum, label='Cumulative SMR from rain')\n",
    "ax.plot(df_time, df_SMR_ins1_cond_cum, label='Cumulative Empirical 1 SMR from rain')\n",
    "ax.plot(df_time, df_hfmr_cum, label='1D Transient - Cumulative')\n",
    "\n",
    "plt.xlabel('Time')\n",
    "plt.ylabel('Snow Melt Rate, $kg/m^2$')\n",
    "plt.legend()\n",
    "plt.grid()\n",
    "plt.show()"
   ]
  },
  {
   "cell_type": "code",
   "execution_count": null,
   "metadata": {},
   "outputs": [],
   "source": []
  }
 ],
 "metadata": {
  "kernelspec": {
   "display_name": "python3.11",
   "language": "python",
   "name": "python3"
  },
  "language_info": {
   "codemirror_mode": {
    "name": "ipython",
    "version": 3
   },
   "file_extension": ".py",
   "mimetype": "text/x-python",
   "name": "python",
   "nbconvert_exporter": "python",
   "pygments_lexer": "ipython3",
   "version": "3.11.0rc1"
  }
 },
 "nbformat": 4,
 "nbformat_minor": 2
}
