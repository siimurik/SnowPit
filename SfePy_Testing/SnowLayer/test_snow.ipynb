{
 "cells": [
  {
   "cell_type": "code",
   "execution_count": 8,
   "id": "36d04285",
   "metadata": {},
   "outputs": [],
   "source": [
    "from __future__ import absolute_import\n",
    "import numpy as nm\n",
    "from sfepy.discrete.fem import Mesh\n",
    "from sfepy.discrete.fem.meshio import UserMeshIO\n",
    "import csv"
   ]
  },
  {
   "cell_type": "code",
   "execution_count": 2,
   "id": "e0bf230c",
   "metadata": {},
   "outputs": [],
   "source": [
    "def mesh_hook(mesh, mode):\n",
    "    \"\"\"\n",
    "    Generate the 1D mesh.\n",
    "    \"\"\"\n",
    "    if mode == 'read':\n",
    "        n_nod = 101\n",
    "\n",
    "        coors = nm.linspace(0.0, 1.0, n_nod).reshape((n_nod, 1))\n",
    "        conn = nm.arange(n_nod, dtype=nm.int32).repeat(2)[1:-1].reshape((-1, 2))\n",
    "        mat_ids = nm.zeros(n_nod - 1, dtype=nm.int32)\n",
    "        descs = ['1_2']\n",
    "\n",
    "        mesh = Mesh.from_data('laplace_1d', coors, None,\n",
    "                              [conn], [mat_ids], descs)\n",
    "        return mesh\n",
    "\n",
    "    elif mode == 'write':\n",
    "        pass"
   ]
  },
  {
   "cell_type": "code",
   "execution_count": 3,
   "id": "5d8a1d36",
   "metadata": {},
   "outputs": [],
   "source": [
    "def get_coef(ts, coors, mode=None, **kwargs):\n",
    "    if mode == 'qp':\n",
    "        x = coors[:, 0]\n",
    "\n",
    "        val = 0.1 + nm.sin(2 * nm.pi * x)**2\n",
    "        val.shape = (coors.shape[0], 1, 1)\n",
    "\n",
    "        return {'val' : val}"
   ]
  },
  {
   "cell_type": "code",
   "execution_count": 5,
   "id": "594be97a",
   "metadata": {},
   "outputs": [
    {
     "data": {
      "text/plain": [
       "UserMeshIO"
      ]
     },
     "execution_count": 5,
     "metadata": {},
     "output_type": "execute_result"
    }
   ],
   "source": [
    "filename_mesh = UserMeshIO(mesh_hook)\n",
    "\n",
    "filename_mesh"
   ]
  },
  {
   "cell_type": "code",
   "execution_count": 6,
   "id": "d373ab62",
   "metadata": {},
   "outputs": [
    {
     "data": {
      "text/plain": [
       "Mesh:laplace_1d"
      ]
     },
     "execution_count": 6,
     "metadata": {},
     "output_type": "execute_result"
    }
   ],
   "source": [
    "n_nod = 101\n",
    "\n",
    "coors = nm.linspace(0.0, 1.0, n_nod).reshape((n_nod, 1))\n",
    "conn = nm.arange(n_nod, dtype=nm.int32).repeat(2)[1:-1].reshape((-1, 2))\n",
    "mat_ids = nm.zeros(n_nod - 1, dtype=nm.int32)\n",
    "descs = ['1_2']\n",
    "\n",
    "mesh = Mesh.from_data('laplace_1d', coors, None,\n",
    "                        [conn], [mat_ids], descs)\n",
    "\n",
    "mesh"
   ]
  },
  {
   "cell_type": "code",
   "execution_count": 9,
   "id": "233c3d22",
   "metadata": {},
   "outputs": [],
   "source": [
    "# Read boundary condition data from CSV\n",
    "def read_temp_and_hcoeff_from_csv(filename=\"t_o_and_h_o.csv\"):\n",
    "    \"\"\"Read temperature and heat transfer coefficient data from CSV file.\"\"\"\n",
    "    t_o, h_o = [], []\n",
    "    with open(filename, 'r') as csvfile:\n",
    "        csvreader = csv.reader(csvfile)\n",
    "        for row in csvreader:\n",
    "            if len(row) >= 2:\n",
    "                t_o.append(float(row[0].strip()))\n",
    "                h_o.append(float(row[1].strip()))\n",
    "    return t_o, h_o\n",
    "\n",
    "t_o, h_o = read_temp_and_hcoeff_from_csv()\n"
   ]
  },
  {
   "cell_type": "code",
   "execution_count": 11,
   "id": "d358f25f",
   "metadata": {},
   "outputs": [
    {
     "data": {
      "text/plain": [
       "17.2"
      ]
     },
     "execution_count": 11,
     "metadata": {},
     "output_type": "execute_result"
    }
   ],
   "source": [
    "h_o[len(h_o)-1]"
   ]
  }
 ],
 "metadata": {
  "kernelspec": {
   "display_name": "sfepy-env",
   "language": "python",
   "name": "python3"
  },
  "language_info": {
   "codemirror_mode": {
    "name": "ipython",
    "version": 3
   },
   "file_extension": ".py",
   "mimetype": "text/x-python",
   "name": "python",
   "nbconvert_exporter": "python",
   "pygments_lexer": "ipython3",
   "version": "3.12.3"
  }
 },
 "nbformat": 4,
 "nbformat_minor": 5
}
