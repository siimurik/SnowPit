{
 "cells": [
  {
   "cell_type": "code",
   "execution_count": 19,
   "id": "36d04285",
   "metadata": {},
   "outputs": [],
   "source": [
    "from __future__ import absolute_import\n",
    "import numpy as nm\n",
    "from sfepy.discrete.fem import Mesh\n",
    "from sfepy.discrete.fem.meshio import UserMeshIO\n",
    "import csv\n",
    "import numpy as np"
   ]
  },
  {
   "cell_type": "code",
   "execution_count": 20,
   "id": "e0bf230c",
   "metadata": {},
   "outputs": [],
   "source": [
    "def mesh_hook(mesh, mode):\n",
    "    \"\"\"\n",
    "    Generate the 1D mesh.\n",
    "    \"\"\"\n",
    "    if mode == 'read':\n",
    "        n_nod = 101\n",
    "\n",
    "        coors = nm.linspace(0.0, 1.0, n_nod).reshape((n_nod, 1))\n",
    "        conn = nm.arange(n_nod, dtype=nm.int32).repeat(2)[1:-1].reshape((-1, 2))\n",
    "        mat_ids = nm.zeros(n_nod - 1, dtype=nm.int32)\n",
    "        descs = ['1_2']\n",
    "\n",
    "        mesh = Mesh.from_data('laplace_1d', coors, None,\n",
    "                              [conn], [mat_ids], descs)\n",
    "        return mesh\n",
    "\n",
    "    elif mode == 'write':\n",
    "        pass"
   ]
  },
  {
   "cell_type": "code",
   "execution_count": 21,
   "id": "5d8a1d36",
   "metadata": {},
   "outputs": [],
   "source": [
    "def get_coef(ts, coors, mode=None, **kwargs):\n",
    "    if mode == 'qp':\n",
    "        x = coors[:, 0]\n",
    "\n",
    "        val = 0.1 + nm.sin(2 * nm.pi * x)**2\n",
    "        val.shape = (coors.shape[0], 1, 1)\n",
    "\n",
    "        return {'val' : val}"
   ]
  },
  {
   "cell_type": "code",
   "execution_count": 22,
   "id": "594be97a",
   "metadata": {},
   "outputs": [
    {
     "data": {
      "text/plain": [
       "UserMeshIO"
      ]
     },
     "execution_count": 22,
     "metadata": {},
     "output_type": "execute_result"
    }
   ],
   "source": [
    "filename_mesh = UserMeshIO(mesh_hook)\n",
    "\n",
    "filename_mesh"
   ]
  },
  {
   "cell_type": "code",
   "execution_count": 23,
   "id": "d373ab62",
   "metadata": {},
   "outputs": [
    {
     "data": {
      "text/plain": [
       "Mesh:laplace_1d"
      ]
     },
     "execution_count": 23,
     "metadata": {},
     "output_type": "execute_result"
    }
   ],
   "source": [
    "n_nod = 101\n",
    "\n",
    "coors = nm.linspace(0.0, 1.0, n_nod).reshape((n_nod, 1))\n",
    "conn = nm.arange(n_nod, dtype=nm.int32).repeat(2)[1:-1].reshape((-1, 2))\n",
    "mat_ids = nm.zeros(n_nod - 1, dtype=nm.int32)\n",
    "descs = ['1_2']\n",
    "\n",
    "mesh = Mesh.from_data('laplace_1d', coors, None,\n",
    "                        [conn], [mat_ids], descs)\n",
    "\n",
    "mesh"
   ]
  },
  {
   "cell_type": "code",
   "execution_count": 24,
   "id": "233c3d22",
   "metadata": {},
   "outputs": [],
   "source": [
    "# Read boundary condition data from CSV\n",
    "def read_temp_and_hcoeff_from_csv(filename=\"t_o_and_h_o.csv\"):\n",
    "    \"\"\"Read temperature and heat transfer coefficient data from CSV file.\"\"\"\n",
    "    t_o, h_o = [], []\n",
    "    with open(filename, 'r') as csvfile:\n",
    "        csvreader = csv.reader(csvfile)\n",
    "        for row in csvreader:\n",
    "            if len(row) >= 2:\n",
    "                t_o.append(float(row[0].strip()))\n",
    "                h_o.append(float(row[1].strip()))\n",
    "    return t_o, h_o\n",
    "\n",
    "t_o, h_o = read_temp_and_hcoeff_from_csv()\n"
   ]
  },
  {
   "cell_type": "code",
   "execution_count": 25,
   "id": "d358f25f",
   "metadata": {},
   "outputs": [
    {
     "data": {
      "text/plain": [
       "17.2"
      ]
     },
     "execution_count": 25,
     "metadata": {},
     "output_type": "execute_result"
    }
   ],
   "source": [
    "h_o[len(h_o)-1]"
   ]
  },
  {
   "cell_type": "code",
   "execution_count": 26,
   "id": "7691cbf9",
   "metadata": {},
   "outputs": [],
   "source": [
    "def get_coef(ts, coors, mode=None, **kwargs):\n",
    "    if mode == 'qp':\n",
    "        x = coors[:, 0]\n",
    "\n",
    "        val = 0.1 + nm.sin(2 * nm.pi * x)**2\n",
    "        val.shape = (coors.shape[0], 1, 1)\n",
    "\n",
    "        return {'val' : val}"
   ]
  },
  {
   "cell_type": "code",
   "execution_count": 27,
   "id": "35663c4a",
   "metadata": {},
   "outputs": [
    {
     "name": "stdout",
     "output_type": "stream",
     "text": [
      "{'val': array([[[0.1]],\n",
      "\n",
      "       [[0.1]],\n",
      "\n",
      "       [[0.1]]])}\n"
     ]
    }
   ],
   "source": [
    "coors = np.array([[0.0], [0.5], [1.0]])  # Example coordinates\n",
    "result = get_coef(None, coors, mode='qp')\n",
    "print(result)\n"
   ]
  },
  {
   "cell_type": "code",
   "execution_count": 28,
   "id": "d4a21fba",
   "metadata": {},
   "outputs": [],
   "source": [
    "def read_temp_and_hcoeff_from_csv(filename=\"t_o_and_h_o.csv\"):\n",
    "    \"\"\"Read temperature and heat transfer coefficient data from CSV file.\"\"\"\n",
    "    t_o, h_o = [], []\n",
    "    with open(filename, 'r') as csvfile:\n",
    "        csvreader = csv.reader(csvfile)\n",
    "        for row in csvreader:\n",
    "            if len(row) >= 2:\n",
    "                t_o.append(float(row[0].strip()))\n",
    "                h_o.append(float(row[1].strip()))\n",
    "    return t_o, h_o\n",
    "\n",
    "t_o, h_o = read_temp_and_hcoeff_from_csv()\n",
    "nr_hour = len(t_o)  # Number of hours"
   ]
  },
  {
   "cell_type": "code",
   "execution_count": 29,
   "id": "b767478f",
   "metadata": {},
   "outputs": [],
   "source": [
    "def get_bc_values(ts, coor, mode=None, region_name=None, **kwargs):\n",
    "    \"\"\"\n",
    "    Time-dependent boundary condition values.\n",
    "    \"\"\"\n",
    "    if mode != 'qp': return {}\n",
    "    # Boundary conditions\n",
    "    t_i = 0.0         # Inner temperature [°C]\n",
    "    h_i = 99.75       # Inner heat transfer coefficient [W/m2K]\n",
    "    \n",
    "    hour = ts.time / 3600  # Current hour\n",
    "    hour_idx = min(int(hour), nr_hour - 1)  # Index for current hour\n",
    "    \n",
    "    nqp = coor.shape[0]\n",
    "    val = nm.zeros((nqp, 1, 2), dtype=nm.float64)  # h and T_inf\n",
    "    \n",
    "    if region_name == 'Gamma_Left':\n",
    "        # Left boundary (outer surface)\n",
    "        val[:, 0, 0] = h_o[hour_idx]  # h value\n",
    "        val[:, 0, 1] = t_o[hour_idx]   # T_inf value\n",
    "    elif region_name == 'Gamma_Right':\n",
    "        # Right boundary (inner surface)\n",
    "        val[:, 0, 0] = h_i  # h value\n",
    "        val[:, 0, 1] = t_i   # T_inf value\n",
    "    \n",
    "    return {'val': val}"
   ]
  },
  {
   "cell_type": "code",
   "execution_count": 30,
   "id": "2488e794",
   "metadata": {},
   "outputs": [
    {
     "name": "stdout",
     "output_type": "stream",
     "text": [
      "{'val': array([[[31.90734191, -4.1       ]],\n",
      "\n",
      "       [[31.90734191, -4.1       ]],\n",
      "\n",
      "       [[31.90734191, -4.1       ]]])}\n"
     ]
    }
   ],
   "source": [
    "class TimeStruct:\n",
    "    def __init__(self, time):\n",
    "        self.time = time\n",
    "\n",
    "ts = TimeStruct(7200)  # 2 hours into the simulation\n",
    "coor = np.array([[0.0], [0.5], [1.0]])  # Example coordinates\n",
    "region_name = 'Gamma_Left'  # Specify the boundary\n",
    "\n",
    "result = get_bc_values(ts, coor, mode='qp', region_name=region_name)\n",
    "print(result)"
   ]
  },
  {
   "cell_type": "code",
   "execution_count": 31,
   "id": "701da8cc",
   "metadata": {},
   "outputs": [
    {
     "name": "stdout",
     "output_type": "stream",
     "text": [
      "3672\n",
      "360\n",
      "13219200\n",
      "1321920\n"
     ]
    }
   ],
   "source": [
    "nr_hour = len(t_o)  # Number of hours\n",
    "print(nr_hour)\n",
    "# Time parameters\n",
    "dt = 10.0  # Time step in seconds\n",
    "nh = int(3600 / dt)  # Number of time steps per hour\n",
    "print(nh)\n",
    "total_time = nr_hour * 3600  # Total simulation time in seconds\n",
    "print(total_time)\n",
    "n_step = nr_hour * nh  # Total number of time steps\n",
    "print(n_step)"
   ]
  },
  {
   "cell_type": "code",
   "execution_count": 32,
   "id": "b77f1c83",
   "metadata": {},
   "outputs": [],
   "source": [
    "def get_h_o(ts, coors, mode=None, **kwargs):\n",
    "    \"\"\"\n",
    "    Time-dependent heat transfer coefficient values (h_o).\n",
    "    \"\"\"\n",
    "    if mode != 'qp' or coors is None:\n",
    "        return {}\n",
    "\n",
    "    hour_idx = min(int(ts.time / 3600), len(h_o) - 1)  # Ensure valid index\n",
    "    val = nm.full((coors.shape[0], 1, 1), h_o[hour_idx], dtype=nm.float64)  # Correct shape\n",
    "\n",
    "    return {'val': val}\n",
    "\n",
    "def get_t_o(ts, coors, mode=None, **kwargs):\n",
    "    \"\"\"\n",
    "    Time-dependent ambient temperature values (t_o).\n",
    "    \"\"\"\n",
    "    if mode != 'qp' or coors is None:\n",
    "        return {}\n",
    "\n",
    "    hour_idx = min(int(ts.time / 3600), len(t_o) - 1)  # Ensure valid index\n",
    "    val = nm.full((coors.shape[0], 1, 1), t_o[hour_idx], dtype=nm.float64)  # Correct shape\n",
    "\n",
    "    return {'val': val}"
   ]
  },
  {
   "cell_type": "code",
   "execution_count": null,
   "id": "c8aa5601",
   "metadata": {},
   "outputs": [
    {
     "name": "stdout",
     "output_type": "stream",
     "text": [
      "Testing get_h_o() at different timestamps:\n",
      "\n",
      "Time: 0 sec (Hour 0), Expected: 10.0, Received: 10.0\n",
      "Time: 3600 sec (Hour 1), Expected: 15.0, Received: 15.0\n",
      "Time: 7200 sec (Hour 2), Expected: 20.0, Received: 20.0\n",
      "Time: 10800 sec (Hour 3), Expected: 25.0, Received: 25.0\n",
      "Time: 5400 sec (Hour 1), Expected: 15.0, Received: 15.0\n",
      "Time: 9000 sec (Hour 2), Expected: 20.0, Received: 20.0\n",
      "\n",
      "test_get_h_o_with_logging passed successfully!\n"
     ]
    }
   ],
   "source": [
    "def test_get_h_o_with_logging():\n",
    "    class MockTimeStep:\n",
    "        def __init__(self, time):\n",
    "            self.time = time\n",
    "\n",
    "    h_o_test = [10.0, 15.0, 20.0, 25.0]  # Example hourly values\n",
    "    coors = nm.array([[0.0], [0.1]])  # Example coordinates\n",
    "\n",
    "    def get_h_o_override(ts, coors, mode=None, h_o=h_o_test, **kwargs):\n",
    "        if mode != 'qp' or coors is None:\n",
    "            return {}\n",
    "\n",
    "        hour_idx = min(int(ts.time / 3600), len(h_o) - 1)\n",
    "        val = nm.full((coors.shape[0], 1, 1), h_o[hour_idx], dtype=nm.float64)\n",
    "\n",
    "        return {'val': val}\n",
    "\n",
    "    print(\"Testing get_h_o() at different timestamps:\\n\")\n",
    "    \n",
    "    timestamps = [\n",
    "        0,  # Start of simulation\n",
    "        3600,  # Full 1 hour\n",
    "        7200,  # Full 2 hours\n",
    "        10800,  # Full 3 hours\n",
    "        5400,  # Between 1h and 2h (should still use 1-hour value)\n",
    "        9000,  # Between 2h and 3h (should still use 2-hour value)\n",
    "    ]\n",
    "\n",
    "    for time in timestamps:\n",
    "        ts = MockTimeStep(time=time)\n",
    "        result = get_h_o_override(ts, coors, mode='qp')\n",
    "        \n",
    "        expected_hour_idx = min(int(time / 3600), len(h_o_test) - 1)\n",
    "        expected_value = h_o_test[expected_hour_idx]\n",
    "\n",
    "        print(f\"Time: {time} sec (Hour {time // 3600}), Expected: {expected_value}, Received: {result['val'][0,0,0]}\")\n",
    "\n",
    "        assert nm.all(result['val'] == expected_value), f\"Failed at time {time}\"\n",
    "\n",
    "    print(\"\\ntest_get_h_o_with_logging passed successfully!\")\n",
    "\n",
    "test_get_h_o_with_logging()\n"
   ]
  },
  {
   "cell_type": "code",
   "execution_count": 39,
   "id": "3dc0f4fd",
   "metadata": {},
   "outputs": [
    {
     "name": "stdout",
     "output_type": "stream",
     "text": [
      "nodes = 21\n"
     ]
    }
   ],
   "source": [
    "# Define test parameters\n",
    "d_ins = 0.1       # Insulation thickness [m]\n",
    "dx = 0.005        # Cell size [m]\n",
    "n_el = int(d_ins / dx)  # Number of elements\n",
    "nodes = n_el + 1  # Number of nodes\n",
    "\n",
    "print(\"nodes =\", nodes)\n"
   ]
  },
  {
   "cell_type": "code",
   "execution_count": 40,
   "id": "04ee6830",
   "metadata": {},
   "outputs": [],
   "source": [
    "def mesh_hook(mesh, mode):\n",
    "    \"\"\"Generate the 1D mesh.\"\"\"\n",
    "    if mode == 'read':\n",
    "        coors = nm.linspace(0.0, d_ins, nodes).reshape((nodes, 1))\n",
    "        conn = nm.arange(nodes, dtype=nm.int32).repeat(2)[1:-1].reshape((-1, 2))\n",
    "        mat_ids = nm.zeros(nodes - 1, dtype=nm.int32)\n",
    "        descs = ['1_2']\n",
    "\n",
    "        mesh = Mesh.from_data('heat_1d', coors, None,\n",
    "                             [conn], [mat_ids], descs)\n",
    "        return mesh\n",
    "    elif mode == 'write':\n",
    "        pass"
   ]
  },
  {
   "cell_type": "code",
   "execution_count": 42,
   "id": "06323bd3",
   "metadata": {},
   "outputs": [
    {
     "name": "stdout",
     "output_type": "stream",
     "text": [
      "Mesh generated successfully!\n",
      "Number of nodes: 21\n",
      "Coordinates:\n",
      "[[0.   ]\n",
      " [0.005]\n",
      " [0.01 ]\n",
      " [0.015]\n",
      " [0.02 ]\n",
      " [0.025]\n",
      " [0.03 ]\n",
      " [0.035]\n",
      " [0.04 ]\n",
      " [0.045]\n",
      " [0.05 ]\n",
      " [0.055]\n",
      " [0.06 ]\n",
      " [0.065]\n",
      " [0.07 ]\n",
      " [0.075]\n",
      " [0.08 ]\n",
      " [0.085]\n",
      " [0.09 ]\n",
      " [0.095]\n",
      " [0.1  ]]\n",
      "Connectivity:\n",
      "[[ 0  1]\n",
      " [ 1  2]\n",
      " [ 2  3]\n",
      " [ 3  4]\n",
      " [ 4  5]\n",
      " [ 5  6]\n",
      " [ 6  7]\n",
      " [ 7  8]\n",
      " [ 8  9]\n",
      " [ 9 10]\n",
      " [10 11]\n",
      " [11 12]\n",
      " [12 13]\n",
      " [13 14]\n",
      " [14 15]\n",
      " [15 16]\n",
      " [16 17]\n",
      " [17 18]\n",
      " [18 19]\n",
      " [19 20]]\n",
      "Material IDs:\n",
      "[0 0 0 0 0 0 0 0 0 0 0 0 0 0 0 0 0 0 0 0]\n"
     ]
    }
   ],
   "source": [
    "\n",
    "\n",
    "# Function wrapper for testing\n",
    "def test_mesh_hook():\n",
    "    mesh = mesh_hook(None, 'read')  # Generate mesh\n",
    "    coors = mesh.coors  # Get coordinates\n",
    "    conn = mesh.get_conn('1_2')  # Get connectivity\n",
    "\n",
    "    # Correct way to access material IDs:\n",
    "    mat_ids = mesh.cmesh.cell_groups  # Returns array of material group assignments\n",
    "\n",
    "    print(\"Mesh generated successfully!\")\n",
    "    print(f\"Number of nodes: {coors.shape[0]}\")\n",
    "    print(f\"Coordinates:\\n{coors}\")\n",
    "    print(f\"Connectivity:\\n{conn}\")\n",
    "    print(f\"Material IDs:\\n{mat_ids}\")\n",
    "\n",
    "# Run the test\n",
    "test_mesh_hook()\n"
   ]
  }
 ],
 "metadata": {
  "kernelspec": {
   "display_name": "sfepy-env",
   "language": "python",
   "name": "python3"
  },
  "language_info": {
   "codemirror_mode": {
    "name": "ipython",
    "version": 3
   },
   "file_extension": ".py",
   "mimetype": "text/x-python",
   "name": "python",
   "nbconvert_exporter": "python",
   "pygments_lexer": "ipython3",
   "version": "3.12.3"
  }
 },
 "nbformat": 4,
 "nbformat_minor": 5
}
