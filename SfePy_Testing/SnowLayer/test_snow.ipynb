{
 "cells": [
  {
   "cell_type": "code",
   "execution_count": 20,
   "id": "36d04285",
   "metadata": {},
   "outputs": [],
   "source": [
    "from __future__ import absolute_import\n",
    "import numpy as nm\n",
    "from sfepy.discrete.fem import Mesh\n",
    "from sfepy.discrete.fem.meshio import UserMeshIO\n",
    "import csv\n",
    "import numpy as np"
   ]
  },
  {
   "cell_type": "code",
   "execution_count": 21,
   "id": "e0bf230c",
   "metadata": {},
   "outputs": [],
   "source": [
    "def mesh_hook(mesh, mode):\n",
    "    \"\"\"\n",
    "    Generate the 1D mesh.\n",
    "    \"\"\"\n",
    "    if mode == 'read':\n",
    "        n_nod = 101\n",
    "\n",
    "        coors = nm.linspace(0.0, 1.0, n_nod).reshape((n_nod, 1))\n",
    "        conn = nm.arange(n_nod, dtype=nm.int32).repeat(2)[1:-1].reshape((-1, 2))\n",
    "        mat_ids = nm.zeros(n_nod - 1, dtype=nm.int32)\n",
    "        descs = ['1_2']\n",
    "\n",
    "        mesh = Mesh.from_data('laplace_1d', coors, None,\n",
    "                              [conn], [mat_ids], descs)\n",
    "        return mesh\n",
    "\n",
    "    elif mode == 'write':\n",
    "        pass"
   ]
  },
  {
   "cell_type": "code",
   "execution_count": 22,
   "id": "5d8a1d36",
   "metadata": {},
   "outputs": [],
   "source": [
    "def get_coef(ts, coors, mode=None, **kwargs):\n",
    "    if mode == 'qp':\n",
    "        x = coors[:, 0]\n",
    "\n",
    "        val = 0.1 + nm.sin(2 * nm.pi * x)**2\n",
    "        val.shape = (coors.shape[0], 1, 1)\n",
    "\n",
    "        return {'val' : val}"
   ]
  },
  {
   "cell_type": "code",
   "execution_count": 23,
   "id": "594be97a",
   "metadata": {},
   "outputs": [
    {
     "data": {
      "text/plain": [
       "UserMeshIO"
      ]
     },
     "execution_count": 23,
     "metadata": {},
     "output_type": "execute_result"
    }
   ],
   "source": [
    "filename_mesh = UserMeshIO(mesh_hook)\n",
    "\n",
    "filename_mesh"
   ]
  },
  {
   "cell_type": "code",
   "execution_count": 24,
   "id": "d373ab62",
   "metadata": {},
   "outputs": [
    {
     "data": {
      "text/plain": [
       "Mesh:laplace_1d"
      ]
     },
     "execution_count": 24,
     "metadata": {},
     "output_type": "execute_result"
    }
   ],
   "source": [
    "n_nod = 101\n",
    "\n",
    "coors = nm.linspace(0.0, 1.0, n_nod).reshape((n_nod, 1))\n",
    "conn = nm.arange(n_nod, dtype=nm.int32).repeat(2)[1:-1].reshape((-1, 2))\n",
    "mat_ids = nm.zeros(n_nod - 1, dtype=nm.int32)\n",
    "descs = ['1_2']\n",
    "\n",
    "mesh = Mesh.from_data('laplace_1d', coors, None,\n",
    "                        [conn], [mat_ids], descs)\n",
    "\n",
    "mesh"
   ]
  },
  {
   "cell_type": "code",
   "execution_count": 25,
   "id": "233c3d22",
   "metadata": {},
   "outputs": [],
   "source": [
    "# Read boundary condition data from CSV\n",
    "def read_temp_and_hcoeff_from_csv(filename=\"t_o_and_h_o.csv\"):\n",
    "    \"\"\"Read temperature and heat transfer coefficient data from CSV file.\"\"\"\n",
    "    t_o, h_o = [], []\n",
    "    with open(filename, 'r') as csvfile:\n",
    "        csvreader = csv.reader(csvfile)\n",
    "        for row in csvreader:\n",
    "            if len(row) >= 2:\n",
    "                t_o.append(float(row[0].strip()))\n",
    "                h_o.append(float(row[1].strip()))\n",
    "    return t_o, h_o\n",
    "\n",
    "t_o, h_o = read_temp_and_hcoeff_from_csv()\n"
   ]
  },
  {
   "cell_type": "code",
   "execution_count": 26,
   "id": "d358f25f",
   "metadata": {},
   "outputs": [
    {
     "data": {
      "text/plain": [
       "17.2"
      ]
     },
     "execution_count": 26,
     "metadata": {},
     "output_type": "execute_result"
    }
   ],
   "source": [
    "h_o[len(h_o)-1]"
   ]
  },
  {
   "cell_type": "code",
   "execution_count": 27,
   "id": "7691cbf9",
   "metadata": {},
   "outputs": [],
   "source": [
    "def get_coef(ts, coors, mode=None, **kwargs):\n",
    "    if mode == 'qp':\n",
    "        x = coors[:, 0]\n",
    "\n",
    "        val = 0.1 + nm.sin(2 * nm.pi * x)**2\n",
    "        val.shape = (coors.shape[0], 1, 1)\n",
    "\n",
    "        return {'val' : val}"
   ]
  },
  {
   "cell_type": "code",
   "execution_count": 28,
   "id": "35663c4a",
   "metadata": {},
   "outputs": [
    {
     "name": "stdout",
     "output_type": "stream",
     "text": [
      "{'val': array([[[0.1]],\n",
      "\n",
      "       [[0.1]],\n",
      "\n",
      "       [[0.1]]])}\n"
     ]
    }
   ],
   "source": [
    "coors = np.array([[0.0], [0.5], [1.0]])  # Example coordinates\n",
    "result = get_coef(None, coors, mode='qp')\n",
    "print(result)\n"
   ]
  },
  {
   "cell_type": "code",
   "execution_count": 29,
   "id": "d4a21fba",
   "metadata": {},
   "outputs": [],
   "source": [
    "def read_temp_and_hcoeff_from_csv(filename=\"t_o_and_h_o.csv\"):\n",
    "    \"\"\"Read temperature and heat transfer coefficient data from CSV file.\"\"\"\n",
    "    t_o, h_o = [], []\n",
    "    with open(filename, 'r') as csvfile:\n",
    "        csvreader = csv.reader(csvfile)\n",
    "        for row in csvreader:\n",
    "            if len(row) >= 2:\n",
    "                t_o.append(float(row[0].strip()))\n",
    "                h_o.append(float(row[1].strip()))\n",
    "    return t_o, h_o\n",
    "\n",
    "t_o, h_o = read_temp_and_hcoeff_from_csv()\n",
    "nr_hour = len(t_o)  # Number of hours"
   ]
  },
  {
   "cell_type": "code",
   "execution_count": 30,
   "id": "b767478f",
   "metadata": {},
   "outputs": [],
   "source": [
    "def get_bc_values(ts, coor, mode=None, region_name=None, **kwargs):\n",
    "    \"\"\"\n",
    "    Time-dependent boundary condition values.\n",
    "    \"\"\"\n",
    "    if mode != 'qp': return {}\n",
    "    # Boundary conditions\n",
    "    t_i = 0.0         # Inner temperature [°C]\n",
    "    h_i = 99.75       # Inner heat transfer coefficient [W/m2K]\n",
    "    \n",
    "    hour = ts.time / 3600  # Current hour\n",
    "    hour_idx = min(int(hour), nr_hour - 1)  # Index for current hour\n",
    "    \n",
    "    nqp = coor.shape[0]\n",
    "    val = nm.zeros((nqp, 1, 2), dtype=nm.float64)  # h and T_inf\n",
    "    \n",
    "    if region_name == 'Gamma_Left':\n",
    "        # Left boundary (outer surface)\n",
    "        val[:, 0, 0] = h_o[hour_idx]  # h value\n",
    "        val[:, 0, 1] = t_o[hour_idx]   # T_inf value\n",
    "    elif region_name == 'Gamma_Right':\n",
    "        # Right boundary (inner surface)\n",
    "        val[:, 0, 0] = h_i  # h value\n",
    "        val[:, 0, 1] = t_i   # T_inf value\n",
    "    \n",
    "    return {'val': val}"
   ]
  },
  {
   "cell_type": "code",
   "execution_count": 31,
   "id": "2488e794",
   "metadata": {},
   "outputs": [
    {
     "name": "stdout",
     "output_type": "stream",
     "text": [
      "{'val': array([[[31.90734191, -4.1       ]],\n",
      "\n",
      "       [[31.90734191, -4.1       ]],\n",
      "\n",
      "       [[31.90734191, -4.1       ]]])}\n"
     ]
    }
   ],
   "source": [
    "class TimeStruct:\n",
    "    def __init__(self, time):\n",
    "        self.time = time\n",
    "\n",
    "ts = TimeStruct(7200)  # 2 hours into the simulation\n",
    "coor = np.array([[0.0], [0.5], [1.0]])  # Example coordinates\n",
    "region_name = 'Gamma_Left'  # Specify the boundary\n",
    "\n",
    "result = get_bc_values(ts, coor, mode='qp', region_name=region_name)\n",
    "print(result)"
   ]
  },
  {
   "cell_type": "code",
   "execution_count": 32,
   "id": "701da8cc",
   "metadata": {},
   "outputs": [
    {
     "name": "stdout",
     "output_type": "stream",
     "text": [
      "3672\n",
      "360\n",
      "13219200\n",
      "1321920\n"
     ]
    }
   ],
   "source": [
    "nr_hour = len(t_o)  # Number of hours\n",
    "print(nr_hour)\n",
    "# Time parameters\n",
    "dt = 10.0  # Time step in seconds\n",
    "nh = int(3600 / dt)  # Number of time steps per hour\n",
    "print(nh)\n",
    "total_time = nr_hour * 3600  # Total simulation time in seconds\n",
    "print(total_time)\n",
    "n_step = nr_hour * nh  # Total number of time steps\n",
    "print(n_step)"
   ]
  }
 ],
 "metadata": {
  "kernelspec": {
   "display_name": "sfepy-env",
   "language": "python",
   "name": "python3"
  },
  "language_info": {
   "codemirror_mode": {
    "name": "ipython",
    "version": 3
   },
   "file_extension": ".py",
   "mimetype": "text/x-python",
   "name": "python",
   "nbconvert_exporter": "python",
   "pygments_lexer": "ipython3",
   "version": "3.12.10"
  }
 },
 "nbformat": 4,
 "nbformat_minor": 5
}
